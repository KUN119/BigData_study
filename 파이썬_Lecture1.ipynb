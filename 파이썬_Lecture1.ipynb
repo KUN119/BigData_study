{
  "nbformat": 4,
  "nbformat_minor": 0,
  "metadata": {
    "colab": {
      "provenance": []
    },
    "kernelspec": {
      "name": "python3",
      "display_name": "Python 3"
    },
    "language_info": {
      "name": "python"
    }
  },
  "cells": [
    {
      "cell_type": "code",
      "execution_count": 2,
      "metadata": {
        "colab": {
          "base_uri": "https://localhost:8080/"
        },
        "id": "yeCXQVoVSZg4",
        "outputId": "831e4d7a-a73d-4756-bfe1-71e24b974f2c"
      },
      "outputs": [
        {
          "output_type": "execute_result",
          "data": {
            "text/plain": [
              "314.0"
            ]
          },
          "metadata": {},
          "execution_count": 2
        }
      ],
      "source": [
        "3.14 * 10 * 10"
      ]
    },
    {
      "cell_type": "code",
      "source": [
        "3.14 * 10**2"
      ],
      "metadata": {
        "colab": {
          "base_uri": "https://localhost:8080/"
        },
        "id": "TK5WOUtnTIuT",
        "outputId": "af8d6547-806d-4884-e59e-f5214f51fa0c"
      },
      "execution_count": 4,
      "outputs": [
        {
          "output_type": "execute_result",
          "data": {
            "text/plain": [
              "314.0"
            ]
          },
          "metadata": {},
          "execution_count": 4
        }
      ]
    },
    {
      "cell_type": "code",
      "source": [
        "import math"
      ],
      "metadata": {
        "id": "WNwoAeXSTLrs"
      },
      "execution_count": 5,
      "outputs": []
    },
    {
      "cell_type": "code",
      "source": [
        "math.sin(40)"
      ],
      "metadata": {
        "colab": {
          "base_uri": "https://localhost:8080/"
        },
        "id": "TdlVS_rQTWdQ",
        "outputId": "321ef795-2a92-4695-be42-d982d17b175a"
      },
      "execution_count": 6,
      "outputs": [
        {
          "output_type": "execute_result",
          "data": {
            "text/plain": [
              "0.7451131604793488"
            ]
          },
          "metadata": {},
          "execution_count": 6
        }
      ]
    },
    {
      "cell_type": "code",
      "source": [
        "\"안녕하세요\""
      ],
      "metadata": {
        "colab": {
          "base_uri": "https://localhost:8080/",
          "height": 35
        },
        "id": "Dq74pymFTZsB",
        "outputId": "50072776-0415-4594-9c49-f8d0489be53f"
      },
      "execution_count": 8,
      "outputs": [
        {
          "output_type": "execute_result",
          "data": {
            "text/plain": [
              "'안녕하세요'"
            ],
            "application/vnd.google.colaboratory.intrinsic+json": {
              "type": "string"
            }
          },
          "metadata": {},
          "execution_count": 8
        }
      ]
    },
    {
      "cell_type": "code",
      "source": [
        "'안녕하세요'"
      ],
      "metadata": {
        "colab": {
          "base_uri": "https://localhost:8080/",
          "height": 35
        },
        "id": "uFyDnjDcTsWi",
        "outputId": "71bd861e-6d17-4a5b-824e-3175d11d8a4e"
      },
      "execution_count": 10,
      "outputs": [
        {
          "output_type": "execute_result",
          "data": {
            "text/plain": [
              "'안녕하세요'"
            ],
            "application/vnd.google.colaboratory.intrinsic+json": {
              "type": "string"
            }
          },
          "metadata": {},
          "execution_count": 10
        }
      ]
    },
    {
      "cell_type": "code",
      "source": [
        "print(\"결과값은\", 10, \"입니다.\")"
      ],
      "metadata": {
        "colab": {
          "base_uri": "https://localhost:8080/"
        },
        "id": "FzUmR-YNTucT",
        "outputId": "9a7ea5c1-5ae9-4533-c771-f21fe443bfb4"
      },
      "execution_count": 12,
      "outputs": [
        {
          "output_type": "stream",
          "name": "stdout",
          "text": [
            "결과값은 10 입니다.\n"
          ]
        }
      ]
    },
    {
      "cell_type": "code",
      "source": [
        "\"나의\" + \"고양이\""
      ],
      "metadata": {
        "colab": {
          "base_uri": "https://localhost:8080/",
          "height": 35
        },
        "id": "G8QdruyhUDl9",
        "outputId": "466b301f-2820-48f2-9d95-9d819f68eb3d"
      },
      "execution_count": 14,
      "outputs": [
        {
          "output_type": "execute_result",
          "data": {
            "text/plain": [
              "'나의고양이'"
            ],
            "application/vnd.google.colaboratory.intrinsic+json": {
              "type": "string"
            }
          },
          "metadata": {},
          "execution_count": 14
        }
      ]
    },
    {
      "cell_type": "code",
      "source": [
        "\"hello\" * 10"
      ],
      "metadata": {
        "colab": {
          "base_uri": "https://localhost:8080/",
          "height": 35
        },
        "id": "Bp57aOcPUdK_",
        "outputId": "37f98237-e445-43c3-e0c4-89700078464a"
      },
      "execution_count": 16,
      "outputs": [
        {
          "output_type": "execute_result",
          "data": {
            "text/plain": [
              "'hellohellohellohellohellohellohellohellohellohello'"
            ],
            "application/vnd.google.colaboratory.intrinsic+json": {
              "type": "string"
            }
          },
          "metadata": {},
          "execution_count": 16
        }
      ]
    },
    {
      "cell_type": "code",
      "source": [
        "print(\"2+3=\", 2+3)"
      ],
      "metadata": {
        "colab": {
          "base_uri": "https://localhost:8080/"
        },
        "id": "53mZWtTOUgBw",
        "outputId": "5717f81d-5feb-4d49-f10e-6b6f4ac64e14"
      },
      "execution_count": 19,
      "outputs": [
        {
          "output_type": "stream",
          "name": "stdout",
          "text": [
            "2+3= 5\n"
          ]
        }
      ]
    },
    {
      "cell_type": "code",
      "source": [
        "x= 10000\n",
        "y= 20000"
      ],
      "metadata": {
        "id": "tKu41zRHUxuw"
      },
      "execution_count": 21,
      "outputs": []
    },
    {
      "cell_type": "code",
      "source": [
        "print(x)"
      ],
      "metadata": {
        "colab": {
          "base_uri": "https://localhost:8080/"
        },
        "id": "TDrDS7QzVGbz",
        "outputId": "aaa87c8c-8793-4ec2-be55-50610a55b676"
      },
      "execution_count": 23,
      "outputs": [
        {
          "output_type": "stream",
          "name": "stdout",
          "text": [
            "10000\n"
          ]
        }
      ]
    },
    {
      "cell_type": "code",
      "source": [
        "radius=10\n",
        "area=3.14*radius*radius\n",
        "print(\"반지름\", radius, \"인 원의 면적=\", area)"
      ],
      "metadata": {
        "colab": {
          "base_uri": "https://localhost:8080/"
        },
        "id": "l2VAxIKzVLXK",
        "outputId": "16753c26-b4be-41aa-a805-ac47fa4d61e0"
      },
      "execution_count": 25,
      "outputs": [
        {
          "output_type": "stream",
          "name": "stdout",
          "text": [
            "반지름 10 인 원의 면적= 314.0\n"
          ]
        }
      ]
    },
    {
      "cell_type": "code",
      "source": [
        "type(radius)"
      ],
      "metadata": {
        "colab": {
          "base_uri": "https://localhost:8080/"
        },
        "id": "b9K5Lc85VkAr",
        "outputId": "2d0d4c6c-7d35-4f41-b88d-25a253e76a85"
      },
      "execution_count": 27,
      "outputs": [
        {
          "output_type": "execute_result",
          "data": {
            "text/plain": [
              "int"
            ]
          },
          "metadata": {},
          "execution_count": 27
        }
      ]
    },
    {
      "cell_type": "code",
      "source": [
        "type(12.30)"
      ],
      "metadata": {
        "colab": {
          "base_uri": "https://localhost:8080/"
        },
        "id": "tZuQccZLW44u",
        "outputId": "bfd398cd-0c1b-411d-86f3-39d0edade2de"
      },
      "execution_count": 28,
      "outputs": [
        {
          "output_type": "execute_result",
          "data": {
            "text/plain": [
              "float"
            ]
          },
          "metadata": {},
          "execution_count": 28
        }
      ]
    },
    {
      "cell_type": "code",
      "source": [
        "print(type(12.30))"
      ],
      "metadata": {
        "colab": {
          "base_uri": "https://localhost:8080/"
        },
        "id": "DEVEXP6yW6HI",
        "outputId": "8bbe0f15-3288-4829-87a7-8efeaeef2af5"
      },
      "execution_count": 29,
      "outputs": [
        {
          "output_type": "stream",
          "name": "stdout",
          "text": [
            "<class 'float'>\n"
          ]
        }
      ]
    },
    {
      "cell_type": "code",
      "source": [
        "x= 1000\n",
        "print(\"초깃값x=\", x)\n",
        "x+=2\n",
        "print(\"x+=2 후의 x=\", x)\n",
        "x-=2\n",
        "print(\"x-=2 후의 x=\", x)"
      ],
      "metadata": {
        "colab": {
          "base_uri": "https://localhost:8080/"
        },
        "id": "aWI39bJVW_TQ",
        "outputId": "232d8b01-3d5d-420d-b4aa-651a43061718"
      },
      "execution_count": 30,
      "outputs": [
        {
          "output_type": "stream",
          "name": "stdout",
          "text": [
            "초깃값x= 1000\n",
            "x+=2 후의 x= 1002\n",
            "x-=2 후의 x= 1000\n"
          ]
        }
      ]
    },
    {
      "cell_type": "code",
      "source": [
        "x=3.14\n",
        "y=str(x)\n",
        "print(y)\n",
        "print(type(y))"
      ],
      "metadata": {
        "colab": {
          "base_uri": "https://localhost:8080/"
        },
        "id": "uLStSEJXYA-n",
        "outputId": "afe20b91-9466-4302-dfda-7fdfee24c84e"
      },
      "execution_count": 34,
      "outputs": [
        {
          "output_type": "stream",
          "name": "stdout",
          "text": [
            "3.14\n",
            "<class 'str'>\n"
          ]
        }
      ]
    },
    {
      "cell_type": "code",
      "source": [
        "a=\"\"\"문단으로 저장하기\n",
        "안녕하세요.\n",
        "박건주입니다.\"\"\"\n",
        "print(a)"
      ],
      "metadata": {
        "colab": {
          "base_uri": "https://localhost:8080/"
        },
        "id": "AsEH71FWYtj0",
        "outputId": "9569ff09-3495-429a-ba92-774aa293fc03"
      },
      "execution_count": 35,
      "outputs": [
        {
          "output_type": "stream",
          "name": "stdout",
          "text": [
            "문단으로 저장하기\n",
            "안녕하세요.\n",
            "박건주입니다.\n"
          ]
        }
      ]
    },
    {
      "cell_type": "code",
      "source": [
        "b='''문단으로 저장하기\n",
        "안녕하세요.\n",
        "박건주입니다.'''\n",
        "print(b)"
      ],
      "metadata": {
        "colab": {
          "base_uri": "https://localhost:8080/"
        },
        "id": "MDc4cTpAaCX3",
        "outputId": "b73113e9-1466-4aff-be7a-a5a1b85c8479"
      },
      "execution_count": 36,
      "outputs": [
        {
          "output_type": "stream",
          "name": "stdout",
          "text": [
            "문단으로 저장하기\n",
            "안녕하세요.\n",
            "박건주입니다.\n"
          ]
        }
      ]
    },
    {
      "cell_type": "code",
      "source": [
        "print(\"말 한마디로\\n천냥빚을 갚는다.\")"
      ],
      "metadata": {
        "colab": {
          "base_uri": "https://localhost:8080/"
        },
        "id": "Trs9SMRzae-V",
        "outputId": "4e9e6e9c-484e-4b94-f5ce-e1bc4db7e6e9"
      },
      "execution_count": 38,
      "outputs": [
        {
          "output_type": "stream",
          "name": "stdout",
          "text": [
            "말 한마디로\n",
            "천냥빚을 갚는다.\n"
          ]
        }
      ]
    },
    {
      "cell_type": "code",
      "source": [
        "print(\"말 한마디로\\t천냥빚을 갚는다.\")"
      ],
      "metadata": {
        "colab": {
          "base_uri": "https://localhost:8080/"
        },
        "id": "AwlZJVFZdBx7",
        "outputId": "01a88421-f4bf-4bb0-c750-1002ac36494a"
      },
      "execution_count": 39,
      "outputs": [
        {
          "output_type": "stream",
          "name": "stdout",
          "text": [
            "말 한마디로\t천냥빚을 갚는다.\n"
          ]
        }
      ]
    },
    {
      "cell_type": "code",
      "source": [
        "print(\"말 한마디로\\\\천냥빚을 갚는다.\")"
      ],
      "metadata": {
        "colab": {
          "base_uri": "https://localhost:8080/"
        },
        "id": "VrkMoBGydFi-",
        "outputId": "c6ff9726-564d-48dc-da14-aadb7cc18f25"
      },
      "execution_count": 40,
      "outputs": [
        {
          "output_type": "stream",
          "name": "stdout",
          "text": [
            "말 한마디로\\천냥빚을 갚는다.\n"
          ]
        }
      ]
    },
    {
      "cell_type": "code",
      "source": [
        "print(\"말 한마디로\\\"천냥빚\\\"을 갚는다.\")"
      ],
      "metadata": {
        "colab": {
          "base_uri": "https://localhost:8080/"
        },
        "id": "0cyoBYPudLjS",
        "outputId": "118934cf-3a5a-4f9c-c89d-59295d4ad8a2"
      },
      "execution_count": 41,
      "outputs": [
        {
          "output_type": "stream",
          "name": "stdout",
          "text": [
            "말 한마디로\"천냥빚\"을 갚는다.\n"
          ]
        }
      ]
    },
    {
      "cell_type": "code",
      "source": [
        "print(\"말 한마디로\\'천냥빚\\'을 갚는다.\")"
      ],
      "metadata": {
        "colab": {
          "base_uri": "https://localhost:8080/"
        },
        "id": "BIr8fz61dZur",
        "outputId": "faec8492-21ec-4ecf-8cd3-d2edb75eb54d"
      },
      "execution_count": 42,
      "outputs": [
        {
          "output_type": "stream",
          "name": "stdout",
          "text": [
            "말 한마디로'천냥빚'을 갚는다.\n"
          ]
        }
      ]
    },
    {
      "cell_type": "code",
      "source": [
        "s=\"Hello World\"\n",
        "print(s[0])\n",
        "print(s[6])\n",
        "\n",
        "#인버스 인덱싱으로 뒷 자리부터 가져올 수 있음\n",
        "print(s[-1])\n",
        "\n",
        "#슬라이싱 기법: 0 ~ 2 전 까지 가져오기\n",
        "print(s[0:2])"
      ],
      "metadata": {
        "colab": {
          "base_uri": "https://localhost:8080/"
        },
        "id": "pPYXbiHBdchT",
        "outputId": "ec1c056d-db9a-41c6-e2c1-c397f3d94dd8"
      },
      "execution_count": 47,
      "outputs": [
        {
          "output_type": "stream",
          "name": "stdout",
          "text": [
            "H\n",
            "W\n",
            "d\n",
            "He\n"
          ]
        }
      ]
    },
    {
      "cell_type": "code",
      "source": [
        "#소문자로 만들기, 문자열 바꾸기\n",
        "name=\"Harry Parter\"\n",
        "lower_name=name.lower()\n",
        "print(lower_name)\n",
        "\n",
        "new_name=name.replace(\"Parter\", \"Porter\")\n",
        "print(new_name)"
      ],
      "metadata": {
        "colab": {
          "base_uri": "https://localhost:8080/"
        },
        "id": "VS5_vcUad74d",
        "outputId": "30f9ecb5-ccc6-419b-b866-98d975e3981a"
      },
      "execution_count": 50,
      "outputs": [
        {
          "output_type": "stream",
          "name": "stdout",
          "text": [
            "harry parter\n",
            "Harry Porter\n"
          ]
        }
      ]
    },
    {
      "cell_type": "code",
      "source": [
        "#input()함수\n",
        "name=input(\"이름을 입력하시오:\")\n",
        "print(name)"
      ],
      "metadata": {
        "colab": {
          "base_uri": "https://localhost:8080/"
        },
        "id": "6D9uT9jpfGqI",
        "outputId": "92dd6b57-e5d1-47ef-957b-6ebe0b429394"
      },
      "execution_count": 52,
      "outputs": [
        {
          "output_type": "stream",
          "name": "stdout",
          "text": [
            "이름을 입력하시오:박박\n",
            "박박\n"
          ]
        }
      ]
    },
    {
      "cell_type": "code",
      "source": [
        "s1 = int(input(\"첫 번째 정수를 입력하시오\"))\n",
        "s2 = int(input(\"두 번째 정수를 입력하시오\"))\n",
        "sum = s1 + s2\n",
        "print(sum)"
      ],
      "metadata": {
        "colab": {
          "base_uri": "https://localhost:8080/"
        },
        "id": "aqMaIv18fwnb",
        "outputId": "b3fba330-730c-4f7d-ad7b-332713f6a51b"
      },
      "execution_count": 54,
      "outputs": [
        {
          "output_type": "stream",
          "name": "stdout",
          "text": [
            "첫 번째 정수를 입력하시오300\n",
            "두 번째 정수를 입력하시오400\n",
            "700\n"
          ]
        }
      ]
    },
    {
      "cell_type": "code",
      "source": [
        "x=100\n",
        "y=200\n",
        "print(f\"{x}와 {y}의 합 ={x+y}\")"
      ],
      "metadata": {
        "colab": {
          "base_uri": "https://localhost:8080/"
        },
        "id": "KI8LVu0mgR6G",
        "outputId": "061660fd-9318-48cd-94da-79a554c1dc05"
      },
      "execution_count": 56,
      "outputs": [
        {
          "output_type": "stream",
          "name": "stdout",
          "text": [
            "100와 200의 합 =300\n"
          ]
        }
      ]
    },
    {
      "cell_type": "code",
      "source": [
        "py=7.1234\n",
        "print(\"테스트 출력 %10.2f\" %py)"
      ],
      "metadata": {
        "colab": {
          "base_uri": "https://localhost:8080/"
        },
        "id": "nMryBpGqgf5H",
        "outputId": "690f0de9-eec7-4669-8331-3ef5c3f4a899"
      },
      "execution_count": 57,
      "outputs": [
        {
          "output_type": "stream",
          "name": "stdout",
          "text": [
            "테스트 출력       7.12\n"
          ]
        }
      ]
    },
    {
      "cell_type": "code",
      "source": [
        "a = \"안녕하세요\"\n",
        "#특수 슬라이싱\n",
        "a[0:5:2]"
      ],
      "metadata": {
        "colab": {
          "base_uri": "https://localhost:8080/",
          "height": 35
        },
        "id": "ljdSK142hBId",
        "outputId": "b11f3645-6a8c-4688-db6c-8d4c1fbfb3eb"
      },
      "execution_count": 59,
      "outputs": [
        {
          "output_type": "execute_result",
          "data": {
            "text/plain": [
              "'안하요'"
            ],
            "application/vnd.google.colaboratory.intrinsic+json": {
              "type": "string"
            }
          },
          "metadata": {},
          "execution_count": 59
        }
      ]
    },
    {
      "cell_type": "code",
      "source": [
        "#인버스 인덱싱\n",
        "a[-2]"
      ],
      "metadata": {
        "colab": {
          "base_uri": "https://localhost:8080/",
          "height": 35
        },
        "id": "wsxd9eS96fkJ",
        "outputId": "d96cfac4-588e-41d5-fbaf-c1ebd5815f5f"
      },
      "execution_count": 60,
      "outputs": [
        {
          "output_type": "execute_result",
          "data": {
            "text/plain": [
              "'세'"
            ],
            "application/vnd.google.colaboratory.intrinsic+json": {
              "type": "string"
            }
          },
          "metadata": {},
          "execution_count": 60
        }
      ]
    },
    {
      "cell_type": "code",
      "source": [
        "#전체가져오기\n",
        "a[:]"
      ],
      "metadata": {
        "colab": {
          "base_uri": "https://localhost:8080/",
          "height": 35
        },
        "id": "huOl8tmv612S",
        "outputId": "4ea8c342-7461-4e3f-8bcc-cd3561a0720f"
      },
      "execution_count": 61,
      "outputs": [
        {
          "output_type": "execute_result",
          "data": {
            "text/plain": [
              "'안녕하세요'"
            ],
            "application/vnd.google.colaboratory.intrinsic+json": {
              "type": "string"
            }
          },
          "metadata": {},
          "execution_count": 61
        }
      ]
    },
    {
      "cell_type": "code",
      "source": [
        "#특수슬라이싱\n",
        "a[::2]"
      ],
      "metadata": {
        "colab": {
          "base_uri": "https://localhost:8080/",
          "height": 35
        },
        "id": "ESyK7F9r6-CF",
        "outputId": "12094ab0-9ea7-4915-8995-238b3be05e8a"
      },
      "execution_count": 62,
      "outputs": [
        {
          "output_type": "execute_result",
          "data": {
            "text/plain": [
              "'안하요'"
            ],
            "application/vnd.google.colaboratory.intrinsic+json": {
              "type": "string"
            }
          },
          "metadata": {},
          "execution_count": 62
        }
      ]
    },
    {
      "cell_type": "code",
      "source": [
        "a[::-2]"
      ],
      "metadata": {
        "colab": {
          "base_uri": "https://localhost:8080/",
          "height": 35
        },
        "id": "4hBVzH3w7CJE",
        "outputId": "9190de64-020c-4c23-fa69-1c03c3b35102"
      },
      "execution_count": 63,
      "outputs": [
        {
          "output_type": "execute_result",
          "data": {
            "text/plain": [
              "'요하안'"
            ],
            "application/vnd.google.colaboratory.intrinsic+json": {
              "type": "string"
            }
          },
          "metadata": {},
          "execution_count": 63
        }
      ]
    },
    {
      "cell_type": "code",
      "source": [
        "#조건문\n",
        "price =int(input(\"상품의 가격:\"))\n",
        "\n",
        "if price> 20000:\n",
        "  shipping_cost=0\n",
        "else:\n",
        "  shipping_cost=3000\n",
        "\n",
        "print(\"배송비 = \", shipping_cost)\n",
        "\n",
        "#들여쓰기는 스페이스바 4번 or 탭 1번"
      ],
      "metadata": {
        "colab": {
          "base_uri": "https://localhost:8080/"
        },
        "id": "EuZcYpVt7Fi4",
        "outputId": "bc3affa6-90ab-4748-f4d3-bb91546ee10f"
      },
      "execution_count": 64,
      "outputs": [
        {
          "output_type": "stream",
          "name": "stdout",
          "text": [
            "상품의 가격:30000\n",
            "배송비 =  0\n"
          ]
        }
      ]
    },
    {
      "cell_type": "code",
      "source": [
        "price=30000\n",
        "exp = price > 20000\n",
        "\n",
        "print(exp)\n",
        "\n",
        "if exp:\n",
        "  shipping_cost = 0\n",
        "else:\n",
        "  shipping_cost = 3000\n",
        "\n",
        "print(shipping_cost)"
      ],
      "metadata": {
        "colab": {
          "base_uri": "https://localhost:8080/"
        },
        "id": "OES3S-G0Gq8B",
        "outputId": "5e1ef506-d74c-4558-84c6-da4d993bafa8"
      },
      "execution_count": 66,
      "outputs": [
        {
          "output_type": "stream",
          "name": "stdout",
          "text": [
            "True\n",
            "0\n"
          ]
        }
      ]
    },
    {
      "cell_type": "code",
      "source": [
        "# 조건 연산자 max_value = (x if x>y else y)의 경우, \n",
        "# if x>y 먼저 구분하고 true면 왼쪽값, false면 오른쪽 값 반환\n",
        "\n",
        "x=int(input(\"첫 번째 수=\"))\n",
        "y=int(input(\"두 번째 수=\"))\n",
        "max_value = (x if x>y else y)\n",
        "min_value = (y if x>y else x)\n",
        "print(\"큰 수 =\", max_value, \"작은 수 =\", min_value)"
      ],
      "metadata": {
        "colab": {
          "base_uri": "https://localhost:8080/"
        },
        "id": "YXpyY0vcHxb0",
        "outputId": "16c4c878-dad2-44de-b9b9-3dc135573153"
      },
      "execution_count": 69,
      "outputs": [
        {
          "output_type": "stream",
          "name": "stdout",
          "text": [
            "첫 번째 수=5\n",
            "두 번째 수=10\n",
            "큰 수 = 10 작은 수 = 5\n"
          ]
        }
      ]
    },
    {
      "cell_type": "code",
      "source": [
        "#정수를 입력받아 짝수인지 홀수인지 검사하기\n",
        "\n",
        "x=int(input(\"정수를 입력하시오. \"))\n",
        "\n",
        "if(x%2==0):\n",
        "  print(\"짝수입니다\")\n",
        "else:\n",
        "  print(\"홀수입니다\")\n"
      ],
      "metadata": {
        "colab": {
          "base_uri": "https://localhost:8080/"
        },
        "id": "Ww96y1hEJmFc",
        "outputId": "49c27b93-0aa3-4ec0-9547-7428d4819203"
      },
      "execution_count": 72,
      "outputs": [
        {
          "output_type": "stream",
          "name": "stdout",
          "text": [
            "정수를 입력하시오. 19\n",
            "홀수입니다\n"
          ]
        }
      ]
    },
    {
      "cell_type": "code",
      "source": [
        "price = int(input(\"가격: \"))\n",
        "card = str(input(\"카드: \"))\n",
        "\n",
        "if(price>20000 and card==\"python\"):\n",
        "  print(\"배송료 무료\")"
      ],
      "metadata": {
        "colab": {
          "base_uri": "https://localhost:8080/"
        },
        "id": "lzBEFJ6iKjAg",
        "outputId": "acb3c625-2197-401d-cd56-ee0aa8ce3810"
      },
      "execution_count": 73,
      "outputs": [
        {
          "output_type": "stream",
          "name": "stdout",
          "text": [
            "가격: 30000\n",
            "카드: python\n",
            "배송료 무료\n"
          ]
        }
      ]
    },
    {
      "cell_type": "code",
      "source": [
        "price = int(input(\"가격을 입력하시오: \"))\n",
        "card = input(\"카드 종류를 입력하시오: \")\n",
        "\n",
        "if price>20000 and card==\"python\":\n",
        "  print(\"배송료가 없습니다.\")\n",
        "else:\n",
        "  print(\"배송료는 3000원입니다.\")"
      ],
      "metadata": {
        "colab": {
          "base_uri": "https://localhost:8080/"
        },
        "id": "YuH3ckwELZZf",
        "outputId": "38edc50a-0a42-4956-9d73-d9994b6d38dc"
      },
      "execution_count": 74,
      "outputs": [
        {
          "output_type": "stream",
          "name": "stdout",
          "text": [
            "가격을 입력하시오: 30000\n",
            "카드 종류를 입력하시오: python\n",
            "배송료가 없습니다.\n"
          ]
        }
      ]
    },
    {
      "cell_type": "code",
      "source": [
        "#연속 if문(elif문)\n",
        "\n",
        "num=int(input(\"정수를 입력하시오:\"))\n",
        "\n",
        "if num > 0:\n",
        "  print(\"양수입니다.\")\n",
        "elif num == 0:\n",
        "  print(\"0입니다.\")\n",
        "else:\n",
        "  print(\"음수입니다.\")"
      ],
      "metadata": {
        "colab": {
          "base_uri": "https://localhost:8080/"
        },
        "id": "fkgulpvqLtf9",
        "outputId": "b034f414-af20-4148-d8bc-9fc43950a145"
      },
      "execution_count": 79,
      "outputs": [
        {
          "output_type": "stream",
          "name": "stdout",
          "text": [
            "정수를 입력하시오:0\n",
            "0입니다.\n"
          ]
        }
      ]
    },
    {
      "cell_type": "code",
      "source": [
        "#지진의 리히터 규모를 받아서 그 영향을 출력하는 프로그램 작성\n",
        "\n",
        "num = float(input(\"리히터 규모를 입력하시오: \"))\n",
        "\n",
        "if num < 2:\n",
        "  print(\"지진계에 의해서만 탐지 가능합니다.\")\n",
        "elif num < 4:\n",
        "  print(\"물건들이 흔들리거나 떨어집니다.\")\n",
        "elif num < 7:\n",
        "  print(\"빈약한 건물에 큰 피해가 있습니다.\")\n",
        "elif num < 8:\n",
        "  print(\"지표면에 균열이 발생합니다.\")\n",
        "elif num < 9:\n",
        "  print(\"대부분의 구조물이 파괴됩니다.\")\n",
        "\n",
        "#이러면 9이상일 경우 볼수가 없네"
      ],
      "metadata": {
        "colab": {
          "base_uri": "https://localhost:8080/"
        },
        "id": "hnt51rItMa4R",
        "outputId": "1252a9ca-8e6b-4424-e3a5-915872ff2ca0"
      },
      "execution_count": 85,
      "outputs": [
        {
          "output_type": "stream",
          "name": "stdout",
          "text": [
            "리히터 규모를 입력하시오: 2.3\n",
            "물건들이 흔들리거나 떨어집니다.\n"
          ]
        }
      ]
    },
    {
      "cell_type": "code",
      "source": [
        "for i in[9,8,7,6,5]:\n",
        "  print(\"i=\", i)"
      ],
      "metadata": {
        "colab": {
          "base_uri": "https://localhost:8080/"
        },
        "id": "EndxEQJFNg2w",
        "outputId": "97a14c63-24ab-4ea6-93d9-1e943b7a2f29"
      },
      "execution_count": 86,
      "outputs": [
        {
          "output_type": "stream",
          "name": "stdout",
          "text": [
            "i= 9\n",
            "i= 8\n",
            "i= 7\n",
            "i= 6\n",
            "i= 5\n"
          ]
        }
      ]
    },
    {
      "cell_type": "code",
      "source": [
        "for i in range(5):\n",
        "  print(\"방문을 환영합니다.\")"
      ],
      "metadata": {
        "colab": {
          "base_uri": "https://localhost:8080/"
        },
        "id": "6M1_w00wjKki",
        "outputId": "50577320-56a6-4d39-8319-50a1f3ed189d"
      },
      "execution_count": 88,
      "outputs": [
        {
          "output_type": "stream",
          "name": "stdout",
          "text": [
            "방문을 환영합니다.\n",
            "방문을 환영합니다.\n",
            "방문을 환영합니다.\n",
            "방문을 환영합니다.\n",
            "방문을 환영합니다.\n"
          ]
        }
      ]
    },
    {
      "cell_type": "code",
      "source": [
        "#range(start=0, stop, step=1)\n",
        "#stop의 마지막 값은 포함되지 않음\n",
        "\n",
        "for i in range(5):\n",
        "  print(i)\n",
        "for i in range(1,6):\n",
        "  print(i)\n",
        "for i in range(1,6,2):\n",
        "  print(i)"
      ],
      "metadata": {
        "colab": {
          "base_uri": "https://localhost:8080/"
        },
        "id": "cxcwLtuijZFi",
        "outputId": "a758466c-e363-45c3-d529-023b0d6a49ab"
      },
      "execution_count": 89,
      "outputs": [
        {
          "output_type": "stream",
          "name": "stdout",
          "text": [
            "0\n",
            "1\n",
            "2\n",
            "3\n",
            "4\n",
            "1\n",
            "2\n",
            "3\n",
            "4\n",
            "5\n",
            "1\n",
            "3\n",
            "5\n"
          ]
        }
      ]
    },
    {
      "cell_type": "code",
      "source": [
        "#5,4,3,2,1로 출력하시오\n",
        "for i in range(5,0,-1):\n",
        "  print(i)"
      ],
      "metadata": {
        "colab": {
          "base_uri": "https://localhost:8080/"
        },
        "id": "jtfQnz-VjlbG",
        "outputId": "9ddba051-8503-428f-d5ae-14bb36e1138b"
      },
      "execution_count": 93,
      "outputs": [
        {
          "output_type": "stream",
          "name": "stdout",
          "text": [
            "5\n",
            "4\n",
            "3\n",
            "2\n",
            "1\n"
          ]
        }
      ]
    },
    {
      "cell_type": "code",
      "source": [
        "for i in range(1,6,1):\n",
        "  print(i, end=\" \")"
      ],
      "metadata": {
        "colab": {
          "base_uri": "https://localhost:8080/"
        },
        "id": "aNlyZEgjkZoI",
        "outputId": "acc05979-ca87-4b3e-c98b-679d553f986f"
      },
      "execution_count": 95,
      "outputs": [
        {
          "output_type": "stream",
          "name": "stdout",
          "text": [
            "1 2 3 4 5 "
          ]
        }
      ]
    },
    {
      "cell_type": "code",
      "source": [
        "for i in range(10,0,-1):\n",
        "  print(i, end=\" \")"
      ],
      "metadata": {
        "colab": {
          "base_uri": "https://localhost:8080/"
        },
        "id": "_KQXkwksk9em",
        "outputId": "532e7d43-d0a0-4385-c839-b8a16d9a586a"
      },
      "execution_count": 96,
      "outputs": [
        {
          "output_type": "stream",
          "name": "stdout",
          "text": [
            "10 9 8 7 6 5 4 3 2 1 "
          ]
        }
      ]
    },
    {
      "cell_type": "code",
      "source": [
        "TARGET = 2000\n",
        "money = 1000\n",
        "year = 0\n",
        "rate = 0.07\n",
        "\n",
        "while money < TARGET:\n",
        "  money = money + money * rate\n",
        "  year = year +1\n",
        "\n",
        "print(year,\"년\")"
      ],
      "metadata": {
        "colab": {
          "base_uri": "https://localhost:8080/"
        },
        "id": "m_nhYzbIlI2N",
        "outputId": "2d00c7d7-044b-4647-d631-69c4f52eea3f"
      },
      "execution_count": 98,
      "outputs": [
        {
          "output_type": "stream",
          "name": "stdout",
          "text": [
            "11 년\n"
          ]
        }
      ]
    },
    {
      "cell_type": "code",
      "source": [
        "x=9\n",
        "i=1\n",
        "\n",
        "while i<10:\n",
        "  print(x, \"*\", i, \"=\", x*i)\n",
        "  i += 1\n"
      ],
      "metadata": {
        "colab": {
          "base_uri": "https://localhost:8080/"
        },
        "id": "KUB1AQjOl3ZJ",
        "outputId": "30123234-8641-4505-ab53-8e7753eb5c27"
      },
      "execution_count": 102,
      "outputs": [
        {
          "output_type": "stream",
          "name": "stdout",
          "text": [
            "9 * 1 = 9\n",
            "9 * 2 = 18\n",
            "9 * 3 = 27\n",
            "9 * 4 = 36\n",
            "9 * 5 = 45\n",
            "9 * 6 = 54\n",
            "9 * 7 = 63\n",
            "9 * 8 = 72\n",
            "9 * 9 = 81\n"
          ]
        }
      ]
    },
    {
      "cell_type": "code",
      "source": [
        "#중첩 반복문\n",
        "\n",
        "for i in range(5):\n",
        "  for j in range(5):\n",
        "    print(\"i\",i,\"j\",j)"
      ],
      "metadata": {
        "colab": {
          "base_uri": "https://localhost:8080/"
        },
        "id": "OMmaTCAtnD1x",
        "outputId": "98a4e88c-cba9-4d37-ba64-d5123709553a"
      },
      "execution_count": 103,
      "outputs": [
        {
          "output_type": "stream",
          "name": "stdout",
          "text": [
            "i 0 j 0\n",
            "i 0 j 1\n",
            "i 0 j 2\n",
            "i 0 j 3\n",
            "i 0 j 4\n",
            "i 1 j 0\n",
            "i 1 j 1\n",
            "i 1 j 2\n",
            "i 1 j 3\n",
            "i 1 j 4\n",
            "i 2 j 0\n",
            "i 2 j 1\n",
            "i 2 j 2\n",
            "i 2 j 3\n",
            "i 2 j 4\n",
            "i 3 j 0\n",
            "i 3 j 1\n",
            "i 3 j 2\n",
            "i 3 j 3\n",
            "i 3 j 4\n",
            "i 4 j 0\n",
            "i 4 j 1\n",
            "i 4 j 2\n",
            "i 4 j 3\n",
            "i 4 j 4\n"
          ]
        }
      ]
    },
    {
      "cell_type": "code",
      "source": [
        "for y in range(5):\n",
        "  print(\"*\", end=\"\")"
      ],
      "metadata": {
        "colab": {
          "base_uri": "https://localhost:8080/"
        },
        "id": "b3xlbzmxoUWv",
        "outputId": "779ce351-81e5-4ae3-c574-8f6236f78c6d"
      },
      "execution_count": 105,
      "outputs": [
        {
          "output_type": "stream",
          "name": "stdout",
          "text": [
            "*****"
          ]
        }
      ]
    },
    {
      "cell_type": "code",
      "source": [
        "for y in range(5):\n",
        "  for x in range(10):\n",
        "    print(\"*\", end=\"\")\n",
        "  print(\"\")"
      ],
      "metadata": {
        "colab": {
          "base_uri": "https://localhost:8080/"
        },
        "id": "wWSZrSm-oikh",
        "outputId": "b167a0ca-0b88-4193-a764-d0557751d63b"
      },
      "execution_count": 108,
      "outputs": [
        {
          "output_type": "stream",
          "name": "stdout",
          "text": [
            "**********\n",
            "**********\n",
            "**********\n",
            "**********\n",
            "**********\n"
          ]
        }
      ]
    },
    {
      "cell_type": "code",
      "source": [
        "adj = [\"small\",\"medium\",\"large\"]\n",
        "nouns = [\"apple\",\"banana\",\"grape\"]\n",
        "for x in adj:\n",
        "  for y in nouns:\n",
        "    print(x,y)"
      ],
      "metadata": {
        "colab": {
          "base_uri": "https://localhost:8080/"
        },
        "id": "XjxdMvK4o7H1",
        "outputId": "0e54833d-4144-4a93-be52-1109b75ca1f0"
      },
      "execution_count": 109,
      "outputs": [
        {
          "output_type": "stream",
          "name": "stdout",
          "text": [
            "small apple\n",
            "small banana\n",
            "small grape\n",
            "medium apple\n",
            "medium banana\n",
            "medium grape\n",
            "large apple\n",
            "large banana\n",
            "large grape\n"
          ]
        }
      ]
    },
    {
      "cell_type": "code",
      "source": [
        "#continue break와 달리 조건에 맞을 경우,\n",
        "#뒤의 코드를 무시하고 다시 반복문으로 돌아간다\n",
        "\n",
        "for i in range(1,11):\n",
        "  if i%3 == 0:\n",
        "    continue #3의 배수일 경우 아래로 넘어가지 않고 다시 반복문 처음으로\n",
        "  print(i,end=\"\")"
      ],
      "metadata": {
        "colab": {
          "base_uri": "https://localhost:8080/"
        },
        "id": "1eFTccripQGr",
        "outputId": "039dafb4-1f85-4b6b-f687-3e85a0c9b288"
      },
      "execution_count": 110,
      "outputs": [
        {
          "output_type": "stream",
          "name": "stdout",
          "text": [
            "12457810"
          ]
        }
      ]
    },
    {
      "cell_type": "code",
      "source": [],
      "metadata": {
        "id": "uSk2Fbp_p7vF"
      },
      "execution_count": null,
      "outputs": []
    }
  ]
}