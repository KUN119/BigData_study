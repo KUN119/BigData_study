{
  "nbformat": 4,
  "nbformat_minor": 0,
  "metadata": {
    "colab": {
      "provenance": []
    },
    "kernelspec": {
      "name": "python3",
      "display_name": "Python 3"
    },
    "language_info": {
      "name": "python"
    }
  },
  "cells": [
    {
      "cell_type": "markdown",
      "source": [
        "01 \n",
        "\n",
        "\"뉴딜\" 문자열을 화면에 출력하는 print_new() 함수를 정의하라."
      ],
      "metadata": {
        "id": "bZKGkTFENJX2"
      }
    },
    {
      "cell_type": "code",
      "execution_count": 2,
      "metadata": {
        "id": "AEBlty-UNImm"
      },
      "outputs": [],
      "source": [
        "def print_new():\n",
        "  print(\"뉴딜\")"
      ]
    },
    {
      "cell_type": "markdown",
      "source": [
        "02\n",
        "\n",
        "01번에서 정의한 함수를 호출하라."
      ],
      "metadata": {
        "id": "9Fno-FRnNQcX"
      }
    },
    {
      "cell_type": "code",
      "source": [
        "def print_new():\n",
        "  print(\"뉴딜\")\n",
        "\n",
        "print_new()"
      ],
      "metadata": {
        "id": "ho11AW3cNTrD",
        "colab": {
          "base_uri": "https://localhost:8080/"
        },
        "outputId": "9197af0f-970e-43d6-87b4-c0d2a501e84c"
      },
      "execution_count": 3,
      "outputs": [
        {
          "output_type": "stream",
          "name": "stdout",
          "text": [
            "뉴딜\n"
          ]
        }
      ]
    },
    {
      "cell_type": "markdown",
      "source": [
        "03\n",
        "\n",
        "01번에서 정의한 print_new 함수를 100번호출하라."
      ],
      "metadata": {
        "id": "DmXnZifVNUdH"
      }
    },
    {
      "cell_type": "code",
      "source": [
        "#함수 정의\n",
        "def print_new():\n",
        "  print(\"뉴딜\")\n",
        "\n",
        "#반복문 range에 100넣고 print_new()함수 호출\n",
        "for i in range(100):\n",
        "  print_new()"
      ],
      "metadata": {
        "id": "pFTuFNWYNdxZ",
        "colab": {
          "base_uri": "https://localhost:8080/"
        },
        "outputId": "9889c31c-5a6f-4cce-e839-ec4d9e3cd02b"
      },
      "execution_count": 32,
      "outputs": [
        {
          "output_type": "stream",
          "name": "stdout",
          "text": [
            "뉴딜\n",
            "뉴딜\n",
            "뉴딜\n",
            "뉴딜\n",
            "뉴딜\n",
            "뉴딜\n",
            "뉴딜\n",
            "뉴딜\n",
            "뉴딜\n",
            "뉴딜\n",
            "뉴딜\n",
            "뉴딜\n",
            "뉴딜\n",
            "뉴딜\n",
            "뉴딜\n",
            "뉴딜\n",
            "뉴딜\n",
            "뉴딜\n",
            "뉴딜\n",
            "뉴딜\n",
            "뉴딜\n",
            "뉴딜\n",
            "뉴딜\n",
            "뉴딜\n",
            "뉴딜\n",
            "뉴딜\n",
            "뉴딜\n",
            "뉴딜\n",
            "뉴딜\n",
            "뉴딜\n",
            "뉴딜\n",
            "뉴딜\n",
            "뉴딜\n",
            "뉴딜\n",
            "뉴딜\n",
            "뉴딜\n",
            "뉴딜\n",
            "뉴딜\n",
            "뉴딜\n",
            "뉴딜\n",
            "뉴딜\n",
            "뉴딜\n",
            "뉴딜\n",
            "뉴딜\n",
            "뉴딜\n",
            "뉴딜\n",
            "뉴딜\n",
            "뉴딜\n",
            "뉴딜\n",
            "뉴딜\n",
            "뉴딜\n",
            "뉴딜\n",
            "뉴딜\n",
            "뉴딜\n",
            "뉴딜\n",
            "뉴딜\n",
            "뉴딜\n",
            "뉴딜\n",
            "뉴딜\n",
            "뉴딜\n",
            "뉴딜\n",
            "뉴딜\n",
            "뉴딜\n",
            "뉴딜\n",
            "뉴딜\n",
            "뉴딜\n",
            "뉴딜\n",
            "뉴딜\n",
            "뉴딜\n",
            "뉴딜\n",
            "뉴딜\n",
            "뉴딜\n",
            "뉴딜\n",
            "뉴딜\n",
            "뉴딜\n",
            "뉴딜\n",
            "뉴딜\n",
            "뉴딜\n",
            "뉴딜\n",
            "뉴딜\n",
            "뉴딜\n",
            "뉴딜\n",
            "뉴딜\n",
            "뉴딜\n",
            "뉴딜\n",
            "뉴딜\n",
            "뉴딜\n",
            "뉴딜\n",
            "뉴딜\n",
            "뉴딜\n",
            "뉴딜\n",
            "뉴딜\n",
            "뉴딜\n",
            "뉴딜\n",
            "뉴딜\n",
            "뉴딜\n",
            "뉴딜\n",
            "뉴딜\n",
            "뉴딜\n",
            "뉴딜\n"
          ]
        }
      ]
    },
    {
      "cell_type": "markdown",
      "source": [
        "04\n",
        "\n",
        "\"뉴딜\" 문자열을 100번 화면에 출력하는 new_prints() 함수를 정의하라."
      ],
      "metadata": {
        "id": "pZ9O4RqqNd_h"
      }
    },
    {
      "cell_type": "code",
      "source": [
        "def new_prints(msg, count):\n",
        "  for i in range(count):\n",
        "    print(msg)\n",
        "\n",
        "new_prints(\"뉴딜\", 100)\n"
      ],
      "metadata": {
        "id": "gsMsYYzGPBNG",
        "colab": {
          "base_uri": "https://localhost:8080/"
        },
        "outputId": "c09bbfc2-5900-4ab6-9268-0e09c833aceb"
      },
      "execution_count": 7,
      "outputs": [
        {
          "output_type": "stream",
          "name": "stdout",
          "text": [
            "뉴딜\n",
            "뉴딜\n",
            "뉴딜\n",
            "뉴딜\n",
            "뉴딜\n",
            "뉴딜\n",
            "뉴딜\n",
            "뉴딜\n",
            "뉴딜\n",
            "뉴딜\n",
            "뉴딜\n",
            "뉴딜\n",
            "뉴딜\n",
            "뉴딜\n",
            "뉴딜\n",
            "뉴딜\n",
            "뉴딜\n",
            "뉴딜\n",
            "뉴딜\n",
            "뉴딜\n",
            "뉴딜\n",
            "뉴딜\n",
            "뉴딜\n",
            "뉴딜\n",
            "뉴딜\n",
            "뉴딜\n",
            "뉴딜\n",
            "뉴딜\n",
            "뉴딜\n",
            "뉴딜\n",
            "뉴딜\n",
            "뉴딜\n",
            "뉴딜\n",
            "뉴딜\n",
            "뉴딜\n",
            "뉴딜\n",
            "뉴딜\n",
            "뉴딜\n",
            "뉴딜\n",
            "뉴딜\n",
            "뉴딜\n",
            "뉴딜\n",
            "뉴딜\n",
            "뉴딜\n",
            "뉴딜\n",
            "뉴딜\n",
            "뉴딜\n",
            "뉴딜\n",
            "뉴딜\n",
            "뉴딜\n",
            "뉴딜\n",
            "뉴딜\n",
            "뉴딜\n",
            "뉴딜\n",
            "뉴딜\n",
            "뉴딜\n",
            "뉴딜\n",
            "뉴딜\n",
            "뉴딜\n",
            "뉴딜\n",
            "뉴딜\n",
            "뉴딜\n",
            "뉴딜\n",
            "뉴딜\n",
            "뉴딜\n",
            "뉴딜\n",
            "뉴딜\n",
            "뉴딜\n",
            "뉴딜\n",
            "뉴딜\n",
            "뉴딜\n",
            "뉴딜\n",
            "뉴딜\n",
            "뉴딜\n",
            "뉴딜\n",
            "뉴딜\n",
            "뉴딜\n",
            "뉴딜\n",
            "뉴딜\n",
            "뉴딜\n",
            "뉴딜\n",
            "뉴딜\n",
            "뉴딜\n",
            "뉴딜\n",
            "뉴딜\n",
            "뉴딜\n",
            "뉴딜\n",
            "뉴딜\n",
            "뉴딜\n",
            "뉴딜\n",
            "뉴딜\n",
            "뉴딜\n",
            "뉴딜\n",
            "뉴딜\n",
            "뉴딜\n",
            "뉴딜\n",
            "뉴딜\n",
            "뉴딜\n",
            "뉴딜\n",
            "뉴딜\n"
          ]
        }
      ]
    },
    {
      "cell_type": "markdown",
      "source": [
        "05\n",
        "\n",
        "아래의 에러가 발생하는 이유에 대해 설명하라.\n",
        "\n",
        "```\n",
        "hello()\n",
        "def hello():\n",
        "    print(\"Hi\")\n",
        "```\n",
        "\n",
        "실행 예\n",
        "```\n",
        "NameError: name 'hello' is not defined\n",
        "```\n"
      ],
      "metadata": {
        "id": "Rihgf7vdPOP9"
      }
    },
    {
      "cell_type": "code",
      "source": [
        "#순서가 잘 못 되었음. 아래처럼 바꿔줘야함\n",
        "\n",
        "def hello():\n",
        "    print(\"Hi\")\n",
        "\n",
        "hello()"
      ],
      "metadata": {
        "id": "BCF_iIVwPWfp",
        "colab": {
          "base_uri": "https://localhost:8080/"
        },
        "outputId": "3718a8c8-1fe4-4de3-a50f-597073bc5aeb"
      },
      "execution_count": 33,
      "outputs": [
        {
          "output_type": "stream",
          "name": "stdout",
          "text": [
            "Hi\n"
          ]
        }
      ]
    },
    {
      "cell_type": "markdown",
      "source": [
        "06\n",
        "\n",
        "아래 코드의 실행 결과를 예측하라.\n",
        "\n",
        "```\n",
        "def message() :\n",
        "    print(\"A\")\n",
        "    print(\"B\")\n",
        "\n",
        "message()\n",
        "print(\"C\")\n",
        "message()\n",
        "```"
      ],
      "metadata": {
        "id": "GuAAXOCAParp"
      }
    },
    {
      "cell_type": "code",
      "source": [
        "#message() 함수 호출 -> A B 찍고\n",
        "#print(\"C\") -> C 찍고\n",
        "#message() 함수 한번 더 호출 -> A B 찍힘\n",
        "A\n",
        "B\n",
        "C\n",
        "A\n",
        "B"
      ],
      "metadata": {
        "id": "FLsz-2t4PenB",
        "colab": {
          "base_uri": "https://localhost:8080/"
        },
        "outputId": "4d2be0c8-26ff-4b08-b752-e8a1f7307447"
      },
      "execution_count": 10,
      "outputs": [
        {
          "output_type": "stream",
          "name": "stdout",
          "text": [
            "A\n",
            "B\n",
            "C\n",
            "A\n",
            "B\n"
          ]
        }
      ]
    },
    {
      "cell_type": "markdown",
      "source": [
        "07\n",
        "\n",
        "아래 코드의 실행 결과를 예측하라. (읽기 어려운 코드의 예입니다.)\n",
        "\n",
        "```\n",
        "print(\"A\")\n",
        "\n",
        "def message() :\n",
        "    print(\"B\")\n",
        "\n",
        "print(\"C\")\n",
        "message()\n",
        "```"
      ],
      "metadata": {
        "id": "04sl6tQyPiaZ"
      }
    },
    {
      "cell_type": "code",
      "source": [
        "A\n",
        "C\n",
        "B\n"
      ],
      "metadata": {
        "id": "JKVk2Aw2PmTw",
        "colab": {
          "base_uri": "https://localhost:8080/"
        },
        "outputId": "7ce701ed-f946-4205-ef60-e1859854a8e0"
      },
      "execution_count": 11,
      "outputs": [
        {
          "output_type": "stream",
          "name": "stdout",
          "text": [
            "A\n",
            "C\n",
            "B\n"
          ]
        }
      ]
    },
    {
      "cell_type": "markdown",
      "source": [
        "08\n",
        "\n",
        "아래 코드의 실행 결과를 예측하라. (읽기 어려운 코드의 예입니다.)\n",
        "```\n",
        "print(\"A\")\n",
        "def message1() :\n",
        "    print(\"B\")\n",
        "print(\"C\")\n",
        "def message2() :\n",
        "    print(\"D\")\n",
        "message1()\n",
        "print(\"E\")\n",
        "message2()\n",
        "```"
      ],
      "metadata": {
        "id": "-0Urje6bPm9P"
      }
    },
    {
      "cell_type": "code",
      "source": [
        "ACBED"
      ],
      "metadata": {
        "id": "quw5X00dPq1Q"
      },
      "execution_count": null,
      "outputs": []
    },
    {
      "cell_type": "markdown",
      "source": [
        "09\n",
        "\n",
        "아래 코드의 실행 결과를 예측하라.\n",
        "\n",
        "```\n",
        "def message1():\n",
        "    print(\"A\")\n",
        "\n",
        "def message2():\n",
        "    print(\"B\")\n",
        "    message1()\n",
        "\n",
        "message2()\n",
        "```"
      ],
      "metadata": {
        "id": "pwMD3-S4PrTk"
      }
    },
    {
      "cell_type": "code",
      "source": [
        "#message2()함수 호출 -> B찍히고\n",
        "#message1()함수 호출 -> A찍힘\n",
        "\n",
        "B\n",
        "A"
      ],
      "metadata": {
        "id": "De-PwqqwP0RQ"
      },
      "execution_count": null,
      "outputs": []
    },
    {
      "cell_type": "markdown",
      "source": [
        "10\n",
        "\n",
        "아래 코드의 실행 결과를 예측하라.\n",
        "\n",
        "```\n",
        "def message1():\n",
        "    print(\"A\")\n",
        "\n",
        "def message2():\n",
        "    print(\"B\")\n",
        "\n",
        "def message3():\n",
        "    for i in range (3) :\n",
        "        message2()\n",
        "        print(\"C\")\n",
        "    message1()\n",
        "\n",
        "message3()\n",
        "\n",
        "```"
      ],
      "metadata": {
        "id": "Uk2oLx17P2s7"
      }
    },
    {
      "cell_type": "code",
      "source": [
        "B\n",
        "C\n",
        "B\n",
        "C\n",
        "B\n",
        "C\n",
        "A"
      ],
      "metadata": {
        "id": "OrspRUSxP6IY",
        "colab": {
          "base_uri": "https://localhost:8080/"
        },
        "outputId": "b773b691-8f77-486f-dddd-a4e57eabe930"
      },
      "execution_count": 13,
      "outputs": [
        {
          "output_type": "stream",
          "name": "stdout",
          "text": [
            "B\n",
            "C\n",
            "B\n",
            "C\n",
            "B\n",
            "C\n",
            "A\n"
          ]
        }
      ]
    },
    {
      "cell_type": "markdown",
      "source": [
        "11\n",
        "\n",
        "\n",
        "함수의 호출 결과를 예측하라.\n",
        "```\n",
        "def 함수(문자열) :\n",
        "    print(문자열)\n",
        "\n",
        "함수(\"안녕\")\n",
        "함수(\"Hi\")\n",
        "```"
      ],
      "metadata": {
        "id": "AvWbaDMAP6nI"
      }
    },
    {
      "cell_type": "code",
      "source": [
        "안녕\n",
        "Hi"
      ],
      "metadata": {
        "id": "1Fse24b3P_uP",
        "colab": {
          "base_uri": "https://localhost:8080/"
        },
        "outputId": "6489dd7a-35ef-4baf-cea9-1fc443726e47"
      },
      "execution_count": 14,
      "outputs": [
        {
          "output_type": "stream",
          "name": "stdout",
          "text": [
            "안녕\n",
            "Hi\n"
          ]
        }
      ]
    },
    {
      "cell_type": "markdown",
      "source": [
        "12\n",
        "\n",
        "함수의 호출 결과를 예측하라.\n",
        "\n",
        "```\n",
        "def 함수(a, b) :\n",
        "    print(a + b)\n",
        "\n",
        "함수(3, 4)\n",
        "함수(7, 8)\n",
        "```"
      ],
      "metadata": {
        "id": "jyPw2HBcQAMi"
      }
    },
    {
      "cell_type": "code",
      "source": [
        "#함수()에3,4 넣어서 메소드 호출 -> 3+4 = 7 출력\n",
        "#함수()에7,8 넣어서 메소드 호출 -> 7+8 = 15 출력\n",
        "7\n",
        "15"
      ],
      "metadata": {
        "id": "ZJLPbX_zQCaf"
      },
      "execution_count": null,
      "outputs": []
    },
    {
      "cell_type": "markdown",
      "source": [
        "13\n",
        "\n",
        "아래와 같은 에러가 발생하는 원인을 설명하라.\n",
        "\n",
        "```\n",
        "def 함수(문자열) :\n",
        "    print(문자열)\n",
        "\n",
        "함수()\n",
        "```\n",
        "\n",
        "```\n",
        "TypeError: 함수() missing 1 required positional argument: '문자열'\n",
        "```"
      ],
      "metadata": {
        "id": "L2_nJyf6QEku"
      }
    },
    {
      "cell_type": "code",
      "source": [
        "값을 안 넣어줘서 에러가 뜸"
      ],
      "metadata": {
        "id": "--nJXZkxQJ-n"
      },
      "execution_count": null,
      "outputs": []
    },
    {
      "cell_type": "markdown",
      "source": [
        "14\n",
        "\n",
        "아래와 같은 에러가 발생하는 원인을 설명하라.\n",
        "```\n",
        "def 함수(a, b) :\n",
        "    print(a + b)\n",
        "\n",
        "함수(\"안녕\", 3)\n",
        "```"
      ],
      "metadata": {
        "id": "KOnAR360QQmx"
      }
    },
    {
      "cell_type": "code",
      "source": [
        "int타입 자리에 str타입이 있음"
      ],
      "metadata": {
        "id": "VLwkbpheQT0e"
      },
      "execution_count": null,
      "outputs": []
    },
    {
      "cell_type": "markdown",
      "source": [
        "15\n",
        "\n",
        "하나의 문자를 입력받아 문자열 끝에 \":D\" 스마일 문자열을 이어 붙여 출력하는 print_with_smile 함수를 정의하라."
      ],
      "metadata": {
        "id": "HpDVku90QUr3"
      }
    },
    {
      "cell_type": "code",
      "source": [
        "def print_with_smile(msg):\n",
        "  print(msg,\":D\") #msg와 :D 출력\n",
        "\n",
        "#input으로 문자를 받아서 print_with_smile()함수에 문자넣고 호출\n",
        "print_with_smile(input(\"문자를 입력하세요:\"))"
      ],
      "metadata": {
        "id": "JWZ1Ar4KQW3O",
        "colab": {
          "base_uri": "https://localhost:8080/"
        },
        "outputId": "ee957dca-920b-4b04-f377-9aa22f7f528f"
      },
      "execution_count": 4,
      "outputs": [
        {
          "output_type": "stream",
          "name": "stdout",
          "text": [
            "문자를 입력하세요:hi\n",
            "hi :D\n"
          ]
        }
      ]
    },
    {
      "cell_type": "markdown",
      "source": [
        "16\n",
        "\n",
        "15에서 정의한 함수를 호출하라. 파라미터는 \"안녕하세요\"로 입력하라.\n",
        "\n"
      ],
      "metadata": {
        "id": "9hm2K6BaQZ-v"
      }
    },
    {
      "cell_type": "code",
      "source": [
        "def print_with_smile(msg):\n",
        "  print(msg,\":D\")\n",
        "\n",
        "print_with_smile(\"안녕하세요\")"
      ],
      "metadata": {
        "id": "XufEKUK2QdgW",
        "colab": {
          "base_uri": "https://localhost:8080/"
        },
        "outputId": "c27aed86-d6b5-48bb-ce80-7c55a56b92a9"
      },
      "execution_count": 49,
      "outputs": [
        {
          "output_type": "stream",
          "name": "stdout",
          "text": [
            "안녕하세요 :D\n"
          ]
        }
      ]
    },
    {
      "cell_type": "markdown",
      "source": [
        "17\n",
        "\n",
        "현재 가격을 입력 받아 상한가 (30%)를 출력하는 print_upper_price 함수를 정의하라."
      ],
      "metadata": {
        "id": "3lUj5hXRQfI-"
      }
    },
    {
      "cell_type": "code",
      "source": [
        "def print_upper_price(a):\n",
        "  print(a*1.3)\n",
        "\n",
        "print_upper_price(100000)"
      ],
      "metadata": {
        "id": "NG28myQ9QhI-",
        "colab": {
          "base_uri": "https://localhost:8080/"
        },
        "outputId": "1e43832b-b338-40b1-8445-21cbf06540a2"
      },
      "execution_count": 22,
      "outputs": [
        {
          "output_type": "stream",
          "name": "stdout",
          "text": [
            "130000.0\n"
          ]
        }
      ]
    },
    {
      "cell_type": "markdown",
      "source": [
        "18\n",
        "\n",
        "두 개의 숫자를 입력받아 두 수의 합을 출력하는 print_sum 함수를 정의하라."
      ],
      "metadata": {
        "id": "jRC8OmBEQhhH"
      }
    },
    {
      "cell_type": "code",
      "source": [
        "def print_sum(a, b): \n",
        "  print(a+b) #값을 받아서 덧셈해서 출력\n",
        "\n",
        "print_sum(5, 6) #5, 6 을 넣어서 print_sum 함수 호출"
      ],
      "metadata": {
        "id": "wzPmXmzwQi_F",
        "colab": {
          "base_uri": "https://localhost:8080/"
        },
        "outputId": "2814d7b9-cbe8-434a-bf6b-5d39a1f4a442"
      },
      "execution_count": 23,
      "outputs": [
        {
          "output_type": "stream",
          "name": "stdout",
          "text": [
            "11\n"
          ]
        }
      ]
    },
    {
      "cell_type": "markdown",
      "source": [
        "19\n",
        "\n",
        "두 개의 숫자를 입력받아 합/차/곱/나눗셈을 출력하는 print_arithmetic_operation 함수를 작성하라."
      ],
      "metadata": {
        "id": "K117rkfdQkUY"
      }
    },
    {
      "cell_type": "code",
      "source": [
        "def print_arithmetic_operation(a, b):\n",
        "  print(\"합:\", a+b)\n",
        "  print(\"차:\", a-b)\n",
        "  print(\"곱:\", a*b)\n",
        "  print(\"나눗셈:\", a/b)\n",
        "\n",
        "print_arithmetic_operation(234, 23)"
      ],
      "metadata": {
        "id": "I3vzkMYhQkhu",
        "colab": {
          "base_uri": "https://localhost:8080/"
        },
        "outputId": "fe9aad7d-0a77-4025-927e-c11c54c29959"
      },
      "execution_count": 24,
      "outputs": [
        {
          "output_type": "stream",
          "name": "stdout",
          "text": [
            "합: 257\n",
            "차: 211\n",
            "곱: 5382\n",
            "나눗셈: 10.173913043478262\n"
          ]
        }
      ]
    },
    {
      "cell_type": "markdown",
      "source": [
        "20\n",
        "\n",
        "세 개의 숫자를 입력받아 가장 큰수를 출력하는 print_max 함수를 정의하라. 단 if 문을 사용해서 수를 비교하라."
      ],
      "metadata": {
        "id": "yjKnZeeXQmxz"
      }
    },
    {
      "cell_type": "code",
      "source": [
        "def print_max(a, b, c):\n",
        "  if(a>b and a>c):\n",
        "    print(a)\n",
        "  elif(b>a and b>c):\n",
        "    print(b)\n",
        "  else:\n",
        "    print(c)\n",
        "\n",
        "print_max(23, 34, 88)\n"
      ],
      "metadata": {
        "id": "pghd6Rs1QnWN",
        "colab": {
          "base_uri": "https://localhost:8080/"
        },
        "outputId": "6410504d-fcb7-4a35-ca56-770c7f8442c9"
      },
      "execution_count": 25,
      "outputs": [
        {
          "output_type": "stream",
          "name": "stdout",
          "text": [
            "88\n"
          ]
        }
      ]
    },
    {
      "cell_type": "markdown",
      "source": [
        "21\n",
        "\n",
        "입력된 문자열을 역순으로 출력하는 print_reverse 함수를 정의하라.\n",
        "\n",
        "```\n",
        "print_reverse(\"python\")\n",
        "```\n",
        "\n",
        "```\n",
        "nohtyp\n",
        "```"
      ],
      "metadata": {
        "id": "2069nKrUQooZ"
      }
    },
    {
      "cell_type": "code",
      "source": [
        "def print_reverse(a):\n",
        "  print(a[::-1]) #슬라이싱을 하는데 스텝에 -1을 넣어서 출력하면 거꾸로 나옴\n",
        "\n",
        "print_reverse(\"python\")"
      ],
      "metadata": {
        "id": "F6KF7nKUQuVt",
        "colab": {
          "base_uri": "https://localhost:8080/"
        },
        "outputId": "b88681e1-ba17-4604-ac5c-f8bf69b03c97"
      },
      "execution_count": 31,
      "outputs": [
        {
          "output_type": "stream",
          "name": "stdout",
          "text": [
            "nohtyp\n"
          ]
        }
      ]
    },
    {
      "cell_type": "markdown",
      "source": [
        "22\n",
        "\n",
        "성적 리스트를 입력 받아 평균을 출력하는 print_score 함수를 정의하라.\n",
        "```\n",
        "print_score ([1, 2, 3])\n",
        "```\n",
        "```\n",
        "2.0\n",
        "```"
      ],
      "metadata": {
        "id": "I4q8JlvPQvAR"
      }
    },
    {
      "cell_type": "code",
      "source": [
        "def print_score(slist):\n",
        "  sum=0\n",
        "  for i in range(len(slist)):\n",
        "    sum += slist[i]  \n",
        "  print(sum/len(slist))\n",
        "\n",
        "print_score([1,2,3])"
      ],
      "metadata": {
        "id": "tL3eR4VCQwdk",
        "colab": {
          "base_uri": "https://localhost:8080/"
        },
        "outputId": "2b66b676-6418-4fa6-9437-e2671c871b74"
      },
      "execution_count": 93,
      "outputs": [
        {
          "output_type": "stream",
          "name": "stdout",
          "text": [
            "2.0\n"
          ]
        }
      ]
    },
    {
      "cell_type": "markdown",
      "source": [
        "23\n",
        "\n",
        "하나의 리스트를 입력받아 짝수만 화면에 출력하는 print_even 함수를 정의하라.\n",
        "```\n",
        "print_even ([1, 3, 2, 10, 12, 11, 15])\n",
        "```\n",
        "```\n",
        "2\n",
        "10\n",
        "12\n",
        "```"
      ],
      "metadata": {
        "id": "-yvuLNj7Q8Io"
      }
    },
    {
      "cell_type": "code",
      "source": [
        "def print_even(a):\n",
        "  for i in range(len(a)):\n",
        "    if(a[i] % 2 == 0):\n",
        "      print(a[i])\n",
        "\n",
        "print_even ([1, 3, 2, 10, 12, 11, 15])"
      ],
      "metadata": {
        "id": "bHSSU059Q8vs",
        "colab": {
          "base_uri": "https://localhost:8080/"
        },
        "outputId": "f8892eb3-395d-4d2f-f79f-173d8423b68d"
      },
      "execution_count": 94,
      "outputs": [
        {
          "output_type": "stream",
          "name": "stdout",
          "text": [
            "2\n",
            "10\n",
            "12\n"
          ]
        }
      ]
    },
    {
      "cell_type": "markdown",
      "source": [
        "24\n",
        "\n",
        "하나의 딕셔너리를 입력받아 딕셔너리의 key 값을 화면에 출력하는 print_keys 함수를 정의하라.\n",
        "\n",
        "```\n",
        "print_keys ({\"이름\":\"김말똥\", \"나이\":30, \"성별\":0})\n",
        "```\n",
        "\n",
        "```\n",
        "이름\n",
        "나이\n",
        "성별\n",
        "```\n"
      ],
      "metadata": {
        "id": "P1XGIn-fRBHI"
      }
    },
    {
      "cell_type": "code",
      "source": [
        "def print_keys(a):\n",
        "  for i in a.keys(): #리스트의 키 값만 반복문으로 출력\n",
        "    print(i)\n",
        "\n",
        "print_keys ({\"이름\":\"김말똥\", \"나이\":30, \"성별\":0}) #print_keys()함수에 딕셔너리 넣고 함수 호출"
      ],
      "metadata": {
        "id": "OxkvLkn9RG1U",
        "colab": {
          "base_uri": "https://localhost:8080/"
        },
        "outputId": "2f334e58-fe56-4944-b061-95f8a91bd423"
      },
      "execution_count": 96,
      "outputs": [
        {
          "output_type": "stream",
          "name": "stdout",
          "text": [
            "이름\n",
            "나이\n",
            "성별\n"
          ]
        }
      ]
    },
    {
      "cell_type": "markdown",
      "source": [
        "25\n",
        "\n",
        "입력 문자열을 한 줄에 다섯글자씩 출력하는 print_5xn(string) 함수를 작성하라.\n",
        "\n",
        "```\n",
        "print_5xn(\"아이엠어보이유알어걸\")\n",
        "```\n",
        "```\n",
        "아이엠어보\n",
        "이유알어걸\n",
        "```"
      ],
      "metadata": {
        "id": "Ql6MrGVVRNYg"
      }
    },
    {
      "cell_type": "code",
      "source": [
        "def print_5xn(string):\n",
        "  line = int(len(string)/5)\n",
        "  for i in range(line):\n",
        "    print(string[i*5:i*5+5])\n",
        "\n",
        "print_5xn(\"아이엠어보이유알어걸\")"
      ],
      "metadata": {
        "id": "GmJ6eeduRQMs",
        "colab": {
          "base_uri": "https://localhost:8080/"
        },
        "outputId": "4f146af3-671e-47d1-dbc0-b97d13380cfa"
      },
      "execution_count": 110,
      "outputs": [
        {
          "output_type": "stream",
          "name": "stdout",
          "text": [
            "아이엠어보\n",
            "이유알어걸\n"
          ]
        }
      ]
    },
    {
      "cell_type": "markdown",
      "source": [
        "26\n",
        "\n",
        "문자열과 한줄에 출력될 글자 수를 입력을 받아 한 줄에 입력된 글자 수만큼 출력하는 print_mxn(string) 함수를 작성하라.\n",
        "\n",
        "```\n",
        "printmxn(\"아이엠어보이유알어걸\", 3)\n",
        "```\n",
        "```\n",
        "아이엠\n",
        "어보이\n",
        "유알어\n",
        "걸\n",
        "```"
      ],
      "metadata": {
        "id": "Kpk_NVYQRS5f"
      }
    },
    {
      "cell_type": "code",
      "source": [
        "def printmxn(msg, count):\n",
        "  line = int(len(msg)/count)\n",
        "  for i in range(line+1):\n",
        "    print(msg[i*3:i*3+3])\n",
        "\n",
        "printmxn(\"아이엠어보이유알어걸\", 3)"
      ],
      "metadata": {
        "id": "1-qzLC7sRVhc",
        "colab": {
          "base_uri": "https://localhost:8080/"
        },
        "outputId": "a8ca2f63-ddea-4c4f-81e4-f585d2263ee1"
      },
      "execution_count": 109,
      "outputs": [
        {
          "output_type": "stream",
          "name": "stdout",
          "text": [
            "아이엠\n",
            "어보이\n",
            "유알어\n",
            "걸\n"
          ]
        }
      ]
    },
    {
      "cell_type": "markdown",
      "source": [
        "27\n",
        "\n",
        "연봉을 입력받아 월급을 계산하는 calc_monthly_salary(annual_salary) 함수를 정의하라. 회사는 연봉을 12개월로 나누어 분할 지급하며, \n",
        "\n",
        "이 때 1원 미만은 버림한다.\n",
        "\n",
        "```\n",
        "calc_monthly_salary(12000000)\n",
        "```\n",
        "```\n",
        "1000000\n",
        "```"
      ],
      "metadata": {
        "id": "OBbbhmTuSPZU"
      }
    },
    {
      "cell_type": "code",
      "source": [
        "def calc_monthly_salary(salary):\n",
        "  result = salary/12 #받아온 값을 12로 나눈후\n",
        "  print(int(result)) #int 타입으로 변환 해주면 소수점은 잘림\n",
        "\n",
        "calc_monthly_salary(12000000) #calc_monthly_salary()함수에 값 넣고 함수호출"
      ],
      "metadata": {
        "id": "fEwqkUWdSP_5",
        "colab": {
          "base_uri": "https://localhost:8080/"
        },
        "outputId": "4a887470-23f1-4125-a814-7687da079efa"
      },
      "execution_count": 5,
      "outputs": [
        {
          "output_type": "stream",
          "name": "stdout",
          "text": [
            "1000000\n"
          ]
        }
      ]
    },
    {
      "cell_type": "markdown",
      "source": [
        "28\n",
        "\n",
        "아래 코드의 실행 결과를 예측하라.\n",
        "\n",
        "```\n",
        "def my_print (a, b) :\n",
        "    print(\"왼쪽:\", a)\n",
        "    print(\"오른쪽:\", b)\n",
        "\n",
        "```\n",
        "my_print(a=100, b=200)"
      ],
      "metadata": {
        "id": "s1BANAOvSXOZ"
      }
    },
    {
      "cell_type": "code",
      "source": [
        "def my_print (a, b) :\n",
        "    print(\"왼쪽:\", a)\n",
        "    print(\"오른쪽:\", b)\n",
        "\n",
        "my_print(a=100, b=200)"
      ],
      "metadata": {
        "id": "ugMfvXvtSad5",
        "colab": {
          "base_uri": "https://localhost:8080/"
        },
        "outputId": "4e893b31-583d-4ba2-f669-51e9b8784b3b"
      },
      "execution_count": 115,
      "outputs": [
        {
          "output_type": "stream",
          "name": "stdout",
          "text": [
            "왼쪽: 100\n",
            "오른쪽: 200\n"
          ]
        }
      ]
    },
    {
      "cell_type": "markdown",
      "source": [
        "29\n",
        "\n",
        "아래 코드의 실행 결과를 예측하라.\n",
        "\n",
        "```\n",
        "def my_print (a, b) :\n",
        "    print(\"왼쪽:\", a)\n",
        "    print(\"오른쪽:\", b)\n",
        "```\n",
        "```\n",
        "my_print(b=100, a=200)\n",
        "```"
      ],
      "metadata": {
        "id": "uIFN2HqSScKs"
      }
    },
    {
      "cell_type": "code",
      "source": [
        "def my_print (a, b) :\n",
        "    print(\"왼쪽:\", a)\n",
        "    print(\"오른쪽:\", b)\n",
        "\n",
        "my_print(b=100, a=200)"
      ],
      "metadata": {
        "id": "PcCCrEsOSvwg",
        "colab": {
          "base_uri": "https://localhost:8080/"
        },
        "outputId": "df1098a8-c2d2-4284-dc7c-68ac9b66e172"
      },
      "execution_count": 114,
      "outputs": [
        {
          "output_type": "stream",
          "name": "stdout",
          "text": [
            "왼쪽: 200\n",
            "오른쪽: 100\n"
          ]
        }
      ]
    },
    {
      "cell_type": "markdown",
      "source": [
        "30\n",
        "\n",
        "아래 코드를 실행한 결과를 예상하라.\n",
        "\n",
        "```\n",
        "def n_plus_1 (n) :\n",
        "    result = n + 1\n",
        "```\n",
        "```\n",
        "n_plus_1(3)\n",
        "print (result)\n",
        "```"
      ],
      "metadata": {
        "id": "6aI2IJs1Sy4m"
      }
    },
    {
      "cell_type": "code",
      "source": [
        "#지역변수로 되어있어서 밖에서 호출할 수가 없음"
      ],
      "metadata": {
        "id": "ZkK5seQDS6oH"
      },
      "execution_count": null,
      "outputs": []
    },
    {
      "cell_type": "markdown",
      "source": [
        "31\n",
        "\n",
        "문자열 하나를 입력받아 인터넷 주소를 반환하는 make_url 함수를 정의하라.\n",
        "```\n",
        "make_url(\"naver\")\n",
        "```\n",
        "```\n",
        "www.naver.com\n",
        "```"
      ],
      "metadata": {
        "id": "YnxwO2HgS-6K"
      }
    },
    {
      "cell_type": "code",
      "source": [
        "def make_url(url):\n",
        "  print(\"www.\"+url+\".com\")\n",
        "\n",
        "make_url(\"naver\")"
      ],
      "metadata": {
        "id": "V9zsfPGkS_c_",
        "colab": {
          "base_uri": "https://localhost:8080/"
        },
        "outputId": "1a407225-52bd-4889-b7fb-151b3b6b358a"
      },
      "execution_count": 116,
      "outputs": [
        {
          "output_type": "stream",
          "name": "stdout",
          "text": [
            "www.naver.com\n"
          ]
        }
      ]
    },
    {
      "cell_type": "markdown",
      "source": [
        "32\n",
        "\n",
        "문자열을 입력받아 각 문자들로 구성된 리스트로 반환하는 make_list 함수를 정의하라.\n",
        "\n",
        "```\n",
        "make_list(\"abcd\")\n",
        "```\n",
        "```\n",
        "['a', 'b', 'c', 'd']\n",
        "```"
      ],
      "metadata": {
        "id": "ctVz3FNqTDaM"
      }
    },
    {
      "cell_type": "code",
      "source": [
        "def make_list(a):\n",
        "  print(list(a))\n",
        "\n",
        "make_list(\"abcd\")"
      ],
      "metadata": {
        "id": "LlPbEv06TIJW",
        "colab": {
          "base_uri": "https://localhost:8080/"
        },
        "outputId": "c344d70d-0718-41b6-ea29-b51a0621a218"
      },
      "execution_count": 127,
      "outputs": [
        {
          "output_type": "stream",
          "name": "stdout",
          "text": [
            "['a', 'b', 'c', 'd']\n"
          ]
        }
      ]
    },
    {
      "cell_type": "markdown",
      "source": [
        "33\n",
        "\n",
        "숫자로 구성된 하나의 리스트를 입력받아, 짝수들을 추출하여 리스트로 반환하는 pickup_even 함수를 구현하라.\n",
        "\n",
        "```\n",
        "pickup_even([3, 4, 5, 6, 7, 8])\n",
        "```\n",
        "```\n",
        "[4, 6, 8]\n",
        "```"
      ],
      "metadata": {
        "id": "MvWSnSS2TIsY"
      }
    },
    {
      "cell_type": "code",
      "source": [
        "a = list() #결과를 담을 리스트를 만들어주고\n",
        "def pickup_even(s):\n",
        "  for i in s: #s개수 만큼 반복\n",
        "    if i%2 ==0: #짝수라면\n",
        "      a.append(i) #a리스트에 append\n",
        "  print(a) #a리스트 출력\n",
        "\n",
        "pickup_even([3, 4, 5, 6, 7, 8]) #리스트에 담아서 함수 호출"
      ],
      "metadata": {
        "id": "WvRTasfbTMhe",
        "colab": {
          "base_uri": "https://localhost:8080/"
        },
        "outputId": "605df819-a536-4302-b852-754c488418de"
      },
      "execution_count": 137,
      "outputs": [
        {
          "output_type": "stream",
          "name": "stdout",
          "text": [
            "[4, 6, 8]\n"
          ]
        }
      ]
    },
    {
      "cell_type": "markdown",
      "source": [
        "34\n",
        "\n",
        "콤마가 포함된 문자열 숫자를 입력받아 정수로 변환하는 convert_int 함수를 정의하라.\n",
        "\n",
        "```\n",
        "convert_int(\"1,234,567\")\n",
        "```\n",
        "```\n",
        "1234567\n",
        "```"
      ],
      "metadata": {
        "id": "ipEGBNRhTOZ_"
      }
    },
    {
      "cell_type": "code",
      "source": [
        "def convert_int(a):\n",
        "  print(int(a.replace(',', '')))\n",
        "\n",
        "convert_int(\"1,234,567\")"
      ],
      "metadata": {
        "id": "9ho3c77NTRRe",
        "colab": {
          "base_uri": "https://localhost:8080/"
        },
        "outputId": "2aad445c-1e13-425e-bf3a-f94fcd665d26"
      },
      "execution_count": 146,
      "outputs": [
        {
          "output_type": "stream",
          "name": "stdout",
          "text": [
            "1234567\n"
          ]
        }
      ]
    },
    {
      "cell_type": "markdown",
      "source": [
        "35\n",
        "\n",
        "아래 코드의 실행 결과를 예측하라.\n",
        "\n",
        "```\n",
        "def 함수(num) :\n",
        "    return num + 4\n",
        "\n",
        "\n",
        "a = 함수(10)\n",
        "b = 함수(a)\n",
        "c = 함수(b)\n",
        "print(c)\n",
        "```"
      ],
      "metadata": {
        "id": "TEKwZi1NTS_j"
      }
    },
    {
      "cell_type": "code",
      "source": [
        "22"
      ],
      "metadata": {
        "id": "AeJIk70vTVbH"
      },
      "execution_count": null,
      "outputs": []
    },
    {
      "cell_type": "markdown",
      "source": [
        "36\n",
        "\n",
        "아래 코드의 실행 결과를 예측하라.\n",
        "\n",
        "```\n",
        "def 함수(num) :\n",
        "    return num + 4\n",
        "\n",
        "c = 함수(함수(함수(10)))\n",
        "print(c)\n",
        "```"
      ],
      "metadata": {
        "id": "838UmNADTXK2"
      }
    },
    {
      "cell_type": "code",
      "source": [
        "#함수(10) 실행 -> 14\n",
        "#함수(14) 실행 -> 18\n",
        "#함수(18) 실행 -> 22"
      ],
      "metadata": {
        "id": "l1DN9Nl3TZHO"
      },
      "execution_count": null,
      "outputs": []
    },
    {
      "cell_type": "markdown",
      "source": [
        "37\n",
        "\n",
        "아래 코드의 실행 결과를 예측하라.\n",
        "\n",
        "```\n",
        "def 함수1(num) :\n",
        "    return num + 4\n",
        "\n",
        "def 함수2(num) :\n",
        "    return num * 10\n",
        "\n",
        "a = 함수1(10)\n",
        "c = 함수2(a)\n",
        "print(c)\n",
        "```"
      ],
      "metadata": {
        "id": "_ffE0iAtTbve"
      }
    },
    {
      "cell_type": "code",
      "source": [
        "140"
      ],
      "metadata": {
        "id": "5j8zq0skTd82"
      },
      "execution_count": null,
      "outputs": []
    },
    {
      "cell_type": "markdown",
      "source": [
        "38\n",
        "\n",
        "아래 코드의 실행 결과를 예측하라.\n",
        "\n",
        "```\n",
        "def 함수1(num) :\n",
        "    return num + 4\n",
        "\n",
        "def 함수2(num) :\n",
        "    num = num + 2\n",
        "    return 함수1(num)\n",
        "\n",
        "c = 함수2(10)\n",
        "print(c)\n",
        "```"
      ],
      "metadata": {
        "id": "LXr2yvqVTgcR"
      }
    },
    {
      "cell_type": "code",
      "source": [
        "16"
      ],
      "metadata": {
        "id": "3XH601oJTjul"
      },
      "execution_count": null,
      "outputs": []
    },
    {
      "cell_type": "markdown",
      "source": [
        "39\n",
        "아래 코드의 실행 결과를 예측하라.\n",
        "\n",
        "```\n",
        "def 함수0(num) :\n",
        "    return num * 2\n",
        "\n",
        "def 함수1(num) :\n",
        "    return 함수0(num + 2)\n",
        "\n",
        "def 함수2(num) :\n",
        "    num = num + 10\n",
        "    return 함수1(num)\n",
        "\n",
        "c = 함수2(2)\n",
        "print(c)\n",
        "```"
      ],
      "metadata": {
        "id": "S2Lred36TkuA"
      }
    },
    {
      "cell_type": "code",
      "source": [
        "def 함수0(num) : #세번째 실행\n",
        "    return num * 2 # 14*2 = 28 리턴\n",
        "\n",
        "def 함수1(num) : #두번째 실행 \n",
        "    return 함수0(num + 2) #함수0(14)리턴\n",
        "\n",
        "def 함수2(num) :\n",
        "    num = num + 10 # num = 2+10\n",
        "    return 함수1(num) #함수1(12) 리턴\n",
        "\n",
        "c = 함수2(2) ##첫번째 실행\n",
        "print(c) #마지막으로 출력"
      ],
      "metadata": {
        "id": "HwPkba8VTqA1",
        "colab": {
          "base_uri": "https://localhost:8080/"
        },
        "outputId": "efca1cd0-78a4-4d64-dcec-dfdac425f547"
      },
      "execution_count": 6,
      "outputs": [
        {
          "output_type": "stream",
          "name": "stdout",
          "text": [
            "28\n"
          ]
        }
      ]
    },
    {
      "cell_type": "code",
      "source": [],
      "metadata": {
        "id": "lVtdZ-vsOUjw"
      },
      "execution_count": null,
      "outputs": []
    }
  ]
}