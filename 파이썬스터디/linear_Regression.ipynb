{
  "nbformat": 4,
  "nbformat_minor": 0,
  "metadata": {
    "colab": {
      "provenance": []
    },
    "kernelspec": {
      "name": "python3",
      "display_name": "Python 3"
    },
    "language_info": {
      "name": "python"
    }
  },
  "cells": [
    {
      "cell_type": "code",
      "execution_count": 2,
      "metadata": {
        "id": "wGiY5smdD2n4"
      },
      "outputs": [],
      "source": [
        "#결측치 실습\n",
        "#SimpleImuter는 결측치를 쉽게 다루도록 도와줌\n",
        "from sklearn.impute import SimpleImputer\n",
        "import pandas as pd\n",
        "\n",
        "#결측치를 median 값으로 채울거다\n",
        "imputer = SimpleImputer(strategy = \"median\")\n",
        "\n",
        "#파일 읽어옴\n",
        "test_data = pd.read_csv(\"wine_crack.csv\")\n",
        "\n",
        "#median값이 얼마인지 파악함\n",
        "imputer.fit(test_data)\n",
        "\n",
        "#결측치를 median 값으로 바꿔줌(transform)한다\n",
        "imputerX = imputer.transform(test_data)"
      ]
    },
    {
      "cell_type": "code",
      "source": [
        "pd.DataFrame(imputerX)"
      ],
      "metadata": {
        "colab": {
          "base_uri": "https://localhost:8080/",
          "height": 363
        },
        "id": "0K5ANInHE3sN",
        "outputId": "d297a261-b0df-4e47-e746-bfe3ef3484b7"
      },
      "execution_count": 6,
      "outputs": [
        {
          "output_type": "execute_result",
          "data": {
            "text/plain": [
              "     0     1     2     3      4     5      6       7      8      9     10  \\\n",
              "0   7.4  0.70  0.00  1.90  0.076  11.0   34.0  0.9978  3.510  0.560   9.4   \n",
              "1   7.8  0.88  0.00  2.60  0.098  25.0   67.0  0.9968  3.200  0.680   9.8   \n",
              "2   7.8  0.76  0.04  2.30  0.092  15.0   54.0  0.9970  3.260  0.650   9.8   \n",
              "3  11.2  0.28  0.01  1.95  0.075  17.0   60.0  0.9980  3.160  0.580   9.8   \n",
              "4   7.4  0.70  0.01  1.95  0.076  11.0   54.0  0.9970  3.510  0.560   9.4   \n",
              "5   7.4  0.66  0.00  1.80  0.075  13.0   40.0  0.9978  3.510  0.560   9.4   \n",
              "6   7.9  0.60  0.06  1.60  0.069  15.0   59.0  0.9964  3.355  0.575   9.4   \n",
              "7   7.3  0.65  0.00  1.20  0.065  15.0   21.0  0.9946  3.355  0.575  10.0   \n",
              "8   7.8  0.58  0.02  2.00  0.073   9.0   18.0  0.9968  3.360  0.570   9.5   \n",
              "9   7.5  0.50  0.36  6.10  0.071  17.0  102.0  0.9978  3.350  0.800  10.5   \n",
              "\n",
              "    11   12  \n",
              "0  5.0  1.0  \n",
              "1  5.0  1.0  \n",
              "2  5.0  1.0  \n",
              "3  6.0  1.0  \n",
              "4  5.0  1.0  \n",
              "5  5.0  1.0  \n",
              "6  5.0  1.0  \n",
              "7  7.0  1.0  \n",
              "8  7.0  1.0  \n",
              "9  5.0  1.0  "
            ],
            "text/html": [
              "\n",
              "  <div id=\"df-b3881600-fce5-4d1e-a037-cd0b3e7dd839\">\n",
              "    <div class=\"colab-df-container\">\n",
              "      <div>\n",
              "<style scoped>\n",
              "    .dataframe tbody tr th:only-of-type {\n",
              "        vertical-align: middle;\n",
              "    }\n",
              "\n",
              "    .dataframe tbody tr th {\n",
              "        vertical-align: top;\n",
              "    }\n",
              "\n",
              "    .dataframe thead th {\n",
              "        text-align: right;\n",
              "    }\n",
              "</style>\n",
              "<table border=\"1\" class=\"dataframe\">\n",
              "  <thead>\n",
              "    <tr style=\"text-align: right;\">\n",
              "      <th></th>\n",
              "      <th>0</th>\n",
              "      <th>1</th>\n",
              "      <th>2</th>\n",
              "      <th>3</th>\n",
              "      <th>4</th>\n",
              "      <th>5</th>\n",
              "      <th>6</th>\n",
              "      <th>7</th>\n",
              "      <th>8</th>\n",
              "      <th>9</th>\n",
              "      <th>10</th>\n",
              "      <th>11</th>\n",
              "      <th>12</th>\n",
              "    </tr>\n",
              "  </thead>\n",
              "  <tbody>\n",
              "    <tr>\n",
              "      <th>0</th>\n",
              "      <td>7.4</td>\n",
              "      <td>0.70</td>\n",
              "      <td>0.00</td>\n",
              "      <td>1.90</td>\n",
              "      <td>0.076</td>\n",
              "      <td>11.0</td>\n",
              "      <td>34.0</td>\n",
              "      <td>0.9978</td>\n",
              "      <td>3.510</td>\n",
              "      <td>0.560</td>\n",
              "      <td>9.4</td>\n",
              "      <td>5.0</td>\n",
              "      <td>1.0</td>\n",
              "    </tr>\n",
              "    <tr>\n",
              "      <th>1</th>\n",
              "      <td>7.8</td>\n",
              "      <td>0.88</td>\n",
              "      <td>0.00</td>\n",
              "      <td>2.60</td>\n",
              "      <td>0.098</td>\n",
              "      <td>25.0</td>\n",
              "      <td>67.0</td>\n",
              "      <td>0.9968</td>\n",
              "      <td>3.200</td>\n",
              "      <td>0.680</td>\n",
              "      <td>9.8</td>\n",
              "      <td>5.0</td>\n",
              "      <td>1.0</td>\n",
              "    </tr>\n",
              "    <tr>\n",
              "      <th>2</th>\n",
              "      <td>7.8</td>\n",
              "      <td>0.76</td>\n",
              "      <td>0.04</td>\n",
              "      <td>2.30</td>\n",
              "      <td>0.092</td>\n",
              "      <td>15.0</td>\n",
              "      <td>54.0</td>\n",
              "      <td>0.9970</td>\n",
              "      <td>3.260</td>\n",
              "      <td>0.650</td>\n",
              "      <td>9.8</td>\n",
              "      <td>5.0</td>\n",
              "      <td>1.0</td>\n",
              "    </tr>\n",
              "    <tr>\n",
              "      <th>3</th>\n",
              "      <td>11.2</td>\n",
              "      <td>0.28</td>\n",
              "      <td>0.01</td>\n",
              "      <td>1.95</td>\n",
              "      <td>0.075</td>\n",
              "      <td>17.0</td>\n",
              "      <td>60.0</td>\n",
              "      <td>0.9980</td>\n",
              "      <td>3.160</td>\n",
              "      <td>0.580</td>\n",
              "      <td>9.8</td>\n",
              "      <td>6.0</td>\n",
              "      <td>1.0</td>\n",
              "    </tr>\n",
              "    <tr>\n",
              "      <th>4</th>\n",
              "      <td>7.4</td>\n",
              "      <td>0.70</td>\n",
              "      <td>0.01</td>\n",
              "      <td>1.95</td>\n",
              "      <td>0.076</td>\n",
              "      <td>11.0</td>\n",
              "      <td>54.0</td>\n",
              "      <td>0.9970</td>\n",
              "      <td>3.510</td>\n",
              "      <td>0.560</td>\n",
              "      <td>9.4</td>\n",
              "      <td>5.0</td>\n",
              "      <td>1.0</td>\n",
              "    </tr>\n",
              "    <tr>\n",
              "      <th>5</th>\n",
              "      <td>7.4</td>\n",
              "      <td>0.66</td>\n",
              "      <td>0.00</td>\n",
              "      <td>1.80</td>\n",
              "      <td>0.075</td>\n",
              "      <td>13.0</td>\n",
              "      <td>40.0</td>\n",
              "      <td>0.9978</td>\n",
              "      <td>3.510</td>\n",
              "      <td>0.560</td>\n",
              "      <td>9.4</td>\n",
              "      <td>5.0</td>\n",
              "      <td>1.0</td>\n",
              "    </tr>\n",
              "    <tr>\n",
              "      <th>6</th>\n",
              "      <td>7.9</td>\n",
              "      <td>0.60</td>\n",
              "      <td>0.06</td>\n",
              "      <td>1.60</td>\n",
              "      <td>0.069</td>\n",
              "      <td>15.0</td>\n",
              "      <td>59.0</td>\n",
              "      <td>0.9964</td>\n",
              "      <td>3.355</td>\n",
              "      <td>0.575</td>\n",
              "      <td>9.4</td>\n",
              "      <td>5.0</td>\n",
              "      <td>1.0</td>\n",
              "    </tr>\n",
              "    <tr>\n",
              "      <th>7</th>\n",
              "      <td>7.3</td>\n",
              "      <td>0.65</td>\n",
              "      <td>0.00</td>\n",
              "      <td>1.20</td>\n",
              "      <td>0.065</td>\n",
              "      <td>15.0</td>\n",
              "      <td>21.0</td>\n",
              "      <td>0.9946</td>\n",
              "      <td>3.355</td>\n",
              "      <td>0.575</td>\n",
              "      <td>10.0</td>\n",
              "      <td>7.0</td>\n",
              "      <td>1.0</td>\n",
              "    </tr>\n",
              "    <tr>\n",
              "      <th>8</th>\n",
              "      <td>7.8</td>\n",
              "      <td>0.58</td>\n",
              "      <td>0.02</td>\n",
              "      <td>2.00</td>\n",
              "      <td>0.073</td>\n",
              "      <td>9.0</td>\n",
              "      <td>18.0</td>\n",
              "      <td>0.9968</td>\n",
              "      <td>3.360</td>\n",
              "      <td>0.570</td>\n",
              "      <td>9.5</td>\n",
              "      <td>7.0</td>\n",
              "      <td>1.0</td>\n",
              "    </tr>\n",
              "    <tr>\n",
              "      <th>9</th>\n",
              "      <td>7.5</td>\n",
              "      <td>0.50</td>\n",
              "      <td>0.36</td>\n",
              "      <td>6.10</td>\n",
              "      <td>0.071</td>\n",
              "      <td>17.0</td>\n",
              "      <td>102.0</td>\n",
              "      <td>0.9978</td>\n",
              "      <td>3.350</td>\n",
              "      <td>0.800</td>\n",
              "      <td>10.5</td>\n",
              "      <td>5.0</td>\n",
              "      <td>1.0</td>\n",
              "    </tr>\n",
              "  </tbody>\n",
              "</table>\n",
              "</div>\n",
              "      <button class=\"colab-df-convert\" onclick=\"convertToInteractive('df-b3881600-fce5-4d1e-a037-cd0b3e7dd839')\"\n",
              "              title=\"Convert this dataframe to an interactive table.\"\n",
              "              style=\"display:none;\">\n",
              "        \n",
              "  <svg xmlns=\"http://www.w3.org/2000/svg\" height=\"24px\"viewBox=\"0 0 24 24\"\n",
              "       width=\"24px\">\n",
              "    <path d=\"M0 0h24v24H0V0z\" fill=\"none\"/>\n",
              "    <path d=\"M18.56 5.44l.94 2.06.94-2.06 2.06-.94-2.06-.94-.94-2.06-.94 2.06-2.06.94zm-11 1L8.5 8.5l.94-2.06 2.06-.94-2.06-.94L8.5 2.5l-.94 2.06-2.06.94zm10 10l.94 2.06.94-2.06 2.06-.94-2.06-.94-.94-2.06-.94 2.06-2.06.94z\"/><path d=\"M17.41 7.96l-1.37-1.37c-.4-.4-.92-.59-1.43-.59-.52 0-1.04.2-1.43.59L10.3 9.45l-7.72 7.72c-.78.78-.78 2.05 0 2.83L4 21.41c.39.39.9.59 1.41.59.51 0 1.02-.2 1.41-.59l7.78-7.78 2.81-2.81c.8-.78.8-2.07 0-2.86zM5.41 20L4 18.59l7.72-7.72 1.47 1.35L5.41 20z\"/>\n",
              "  </svg>\n",
              "      </button>\n",
              "      \n",
              "  <style>\n",
              "    .colab-df-container {\n",
              "      display:flex;\n",
              "      flex-wrap:wrap;\n",
              "      gap: 12px;\n",
              "    }\n",
              "\n",
              "    .colab-df-convert {\n",
              "      background-color: #E8F0FE;\n",
              "      border: none;\n",
              "      border-radius: 50%;\n",
              "      cursor: pointer;\n",
              "      display: none;\n",
              "      fill: #1967D2;\n",
              "      height: 32px;\n",
              "      padding: 0 0 0 0;\n",
              "      width: 32px;\n",
              "    }\n",
              "\n",
              "    .colab-df-convert:hover {\n",
              "      background-color: #E2EBFA;\n",
              "      box-shadow: 0px 1px 2px rgba(60, 64, 67, 0.3), 0px 1px 3px 1px rgba(60, 64, 67, 0.15);\n",
              "      fill: #174EA6;\n",
              "    }\n",
              "\n",
              "    [theme=dark] .colab-df-convert {\n",
              "      background-color: #3B4455;\n",
              "      fill: #D2E3FC;\n",
              "    }\n",
              "\n",
              "    [theme=dark] .colab-df-convert:hover {\n",
              "      background-color: #434B5C;\n",
              "      box-shadow: 0px 1px 3px 1px rgba(0, 0, 0, 0.15);\n",
              "      filter: drop-shadow(0px 1px 2px rgba(0, 0, 0, 0.3));\n",
              "      fill: #FFFFFF;\n",
              "    }\n",
              "  </style>\n",
              "\n",
              "      <script>\n",
              "        const buttonEl =\n",
              "          document.querySelector('#df-b3881600-fce5-4d1e-a037-cd0b3e7dd839 button.colab-df-convert');\n",
              "        buttonEl.style.display =\n",
              "          google.colab.kernel.accessAllowed ? 'block' : 'none';\n",
              "\n",
              "        async function convertToInteractive(key) {\n",
              "          const element = document.querySelector('#df-b3881600-fce5-4d1e-a037-cd0b3e7dd839');\n",
              "          const dataTable =\n",
              "            await google.colab.kernel.invokeFunction('convertToInteractive',\n",
              "                                                     [key], {});\n",
              "          if (!dataTable) return;\n",
              "\n",
              "          const docLinkHtml = 'Like what you see? Visit the ' +\n",
              "            '<a target=\"_blank\" href=https://colab.research.google.com/notebooks/data_table.ipynb>data table notebook</a>'\n",
              "            + ' to learn more about interactive tables.';\n",
              "          element.innerHTML = '';\n",
              "          dataTable['output_type'] = 'display_data';\n",
              "          await google.colab.output.renderOutput(dataTable, element);\n",
              "          const docLink = document.createElement('div');\n",
              "          docLink.innerHTML = docLinkHtml;\n",
              "          element.appendChild(docLink);\n",
              "        }\n",
              "      </script>\n",
              "    </div>\n",
              "  </div>\n",
              "  "
            ]
          },
          "metadata": {},
          "execution_count": 6
        }
      ]
    },
    {
      "cell_type": "code",
      "source": [
        "#샘플코드\n",
        "import matplotlib\n",
        "import matplotlib.pyplot as plt\n",
        "import numpy as numpy\n",
        "import sklearn.linear_model\n",
        "\n",
        "#데이터 적재\n",
        "wine_data = pd.read_csv('./wine.csv')\n",
        "print(wine_data)"
      ],
      "metadata": {
        "colab": {
          "base_uri": "https://localhost:8080/"
        },
        "id": "w75S3EuMFvO_",
        "outputId": "e12d3044-8e9b-466d-a92b-6b35cd6ea1be"
      },
      "execution_count": 8,
      "outputs": [
        {
          "output_type": "stream",
          "name": "stdout",
          "text": [
            "      fixed acidity  volatile acidity  citric acid  residual sugar  chlorides  \\\n",
            "0               7.4              0.70         0.00             1.9      0.076   \n",
            "1               7.8              0.88         0.00             2.6      0.098   \n",
            "2               7.8              0.76         0.04             2.3      0.092   \n",
            "3              11.2              0.28         0.56             1.9      0.075   \n",
            "4               7.4              0.70         0.00             1.9      0.076   \n",
            "...             ...               ...          ...             ...        ...   \n",
            "6492            6.2              0.21         0.29             1.6      0.039   \n",
            "6493            6.6              0.32         0.36             8.0      0.047   \n",
            "6494            6.5              0.24         0.19             1.2      0.041   \n",
            "6495            5.5              0.29         0.30             1.1      0.022   \n",
            "6496            6.0              0.21         0.38             0.8      0.020   \n",
            "\n",
            "      free sulfur dioxide  total sulfur dioxide  density    pH  sulphates  \\\n",
            "0                    11.0                  34.0  0.99780  3.51       0.56   \n",
            "1                    25.0                  67.0  0.99680  3.20       0.68   \n",
            "2                    15.0                  54.0  0.99700  3.26       0.65   \n",
            "3                    17.0                  60.0  0.99800  3.16       0.58   \n",
            "4                    11.0                  34.0  0.99780  3.51       0.56   \n",
            "...                   ...                   ...      ...   ...        ...   \n",
            "6492                 24.0                  92.0  0.99114  3.27       0.50   \n",
            "6493                 57.0                 168.0  0.99490  3.15       0.46   \n",
            "6494                 30.0                 111.0  0.99254  2.99       0.46   \n",
            "6495                 20.0                 110.0  0.98869  3.34       0.38   \n",
            "6496                 22.0                  98.0  0.98941  3.26       0.32   \n",
            "\n",
            "      alcohol  quality  class  \n",
            "0         9.4        5      1  \n",
            "1         9.8        5      1  \n",
            "2         9.8        5      1  \n",
            "3         9.8        6      1  \n",
            "4         9.4        5      1  \n",
            "...       ...      ...    ...  \n",
            "6492     11.2        6      0  \n",
            "6493      9.6        5      0  \n",
            "6494      9.4        6      0  \n",
            "6495     12.8        7      0  \n",
            "6496     11.8        6      0  \n",
            "\n",
            "[6497 rows x 13 columns]\n"
          ]
        }
      ]
    },
    {
      "cell_type": "code",
      "source": [
        "#데이터 준비 - train 컬럼 선정 및 target(정답값)설정\n",
        "X = wine_data[[\"residual sugar\", \"density\"]]\n",
        "y = wine_data[\"alcohol\"]\n",
        "\n",
        "print(X)\n",
        "print(y)"
      ],
      "metadata": {
        "colab": {
          "base_uri": "https://localhost:8080/"
        },
        "id": "8bKA02M2GOiX",
        "outputId": "dfcca198-62fa-44b0-eabc-25c2a3b3e1a9"
      },
      "execution_count": 10,
      "outputs": [
        {
          "output_type": "stream",
          "name": "stdout",
          "text": [
            "      residual sugar  density\n",
            "0                1.9  0.99780\n",
            "1                2.6  0.99680\n",
            "2                2.3  0.99700\n",
            "3                1.9  0.99800\n",
            "4                1.9  0.99780\n",
            "...              ...      ...\n",
            "6492             1.6  0.99114\n",
            "6493             8.0  0.99490\n",
            "6494             1.2  0.99254\n",
            "6495             1.1  0.98869\n",
            "6496             0.8  0.98941\n",
            "\n",
            "[6497 rows x 2 columns]\n",
            "0        9.4\n",
            "1        9.8\n",
            "2        9.8\n",
            "3        9.8\n",
            "4        9.4\n",
            "        ... \n",
            "6492    11.2\n",
            "6493     9.6\n",
            "6494     9.4\n",
            "6495    12.8\n",
            "6496    11.8\n",
            "Name: alcohol, Length: 6497, dtype: float64\n"
          ]
        }
      ]
    },
    {
      "cell_type": "code",
      "source": [
        "#선형 모델 객체 생성\n",
        "model = sklearn.linear_model.LinearRegression()\n",
        "\n",
        "#모델한테 X데이터[residual sugar와 density]를 주고, 정답값 y로 부터 최소제곱법으로 최적의 w를 찾아냄\n",
        "model.fit(X,y)\n",
        "\n",
        "#예측\n",
        "#임의의 residual sugar와 density 넣기\n",
        "X_new = [[1.8, 0.99490]]\n",
        "print(\"예측값:\", model.predict(X_new))"
      ],
      "metadata": {
        "colab": {
          "base_uri": "https://localhost:8080/"
        },
        "id": "IvC4klO5YiFv",
        "outputId": "ebf5ac53-9c35-4a8b-e9e7-97ed3d1e4267"
      },
      "execution_count": 12,
      "outputs": [
        {
          "output_type": "stream",
          "name": "stdout",
          "text": [
            "예측값: [10.40863934]\n"
          ]
        },
        {
          "output_type": "stream",
          "name": "stderr",
          "text": [
            "/usr/local/lib/python3.9/dist-packages/sklearn/base.py:439: UserWarning: X does not have valid feature names, but LinearRegression was fitted with feature names\n",
            "  warnings.warn(\n"
          ]
        }
      ]
    },
    {
      "cell_type": "code",
      "source": [
        "#리스트 형태로 필요한 데이터 X2에 바인딩\n",
        "X2 = wine_data[[\"fixed acidity\", \"volatile acidity\", \"citric acid\", \"residual sugar\", \"chlorides\", \"free sulfur dioxide\", \"total sulfur dioxide\", \"density\"]]\n",
        "y2 = wine_data[\"pH\"]\n",
        "\n",
        "print(X2)\n",
        "print(y2)"
      ],
      "metadata": {
        "colab": {
          "base_uri": "https://localhost:8080/"
        },
        "id": "s2CdvwtaZWH5",
        "outputId": "bd8c16fe-9f54-460f-f3b5-e1bc098ee21c"
      },
      "execution_count": 20,
      "outputs": [
        {
          "output_type": "stream",
          "name": "stdout",
          "text": [
            "      fixed acidity  volatile acidity  citric acid  residual sugar  chlorides  \\\n",
            "0               7.4              0.70         0.00             1.9      0.076   \n",
            "1               7.8              0.88         0.00             2.6      0.098   \n",
            "2               7.8              0.76         0.04             2.3      0.092   \n",
            "3              11.2              0.28         0.56             1.9      0.075   \n",
            "4               7.4              0.70         0.00             1.9      0.076   \n",
            "...             ...               ...          ...             ...        ...   \n",
            "6492            6.2              0.21         0.29             1.6      0.039   \n",
            "6493            6.6              0.32         0.36             8.0      0.047   \n",
            "6494            6.5              0.24         0.19             1.2      0.041   \n",
            "6495            5.5              0.29         0.30             1.1      0.022   \n",
            "6496            6.0              0.21         0.38             0.8      0.020   \n",
            "\n",
            "      free sulfur dioxide  total sulfur dioxide  density  \n",
            "0                    11.0                  34.0  0.99780  \n",
            "1                    25.0                  67.0  0.99680  \n",
            "2                    15.0                  54.0  0.99700  \n",
            "3                    17.0                  60.0  0.99800  \n",
            "4                    11.0                  34.0  0.99780  \n",
            "...                   ...                   ...      ...  \n",
            "6492                 24.0                  92.0  0.99114  \n",
            "6493                 57.0                 168.0  0.99490  \n",
            "6494                 30.0                 111.0  0.99254  \n",
            "6495                 20.0                 110.0  0.98869  \n",
            "6496                 22.0                  98.0  0.98941  \n",
            "\n",
            "[6497 rows x 8 columns]\n",
            "0       3.51\n",
            "1       3.20\n",
            "2       3.26\n",
            "3       3.16\n",
            "4       3.51\n",
            "        ... \n",
            "6492    3.27\n",
            "6493    3.15\n",
            "6494    2.99\n",
            "6495    3.34\n",
            "6496    3.26\n",
            "Name: pH, Length: 6497, dtype: float64\n"
          ]
        }
      ]
    },
    {
      "cell_type": "code",
      "source": [
        "#선형 모델 객체 생성\n",
        "model2 = sklearn.linear_model.LinearRegression()\n",
        "\n",
        "#모델한테 X2데이터를 주고, 정답값 y로 부터 최소제곱법으로 최적의 w를 찾아냄\n",
        "model2.fit(X2,y2)\n",
        "\n",
        "#예측\n",
        "#임의의 데이터 넣기 -->2개의 리스트를 넣으면 2개의 값으로 반환해줌\n",
        "X_new = [[7.4, 0.7, 0, 1.9, 0.076, 11, 34, 0.9978], [5.4, 0.3, 0, 1.2, 0.056, 10, 31, 0.9078]]\n",
        "print(\"예측값:\", model2.predict(X_new))"
      ],
      "metadata": {
        "colab": {
          "base_uri": "https://localhost:8080/"
        },
        "id": "Vadk-bipa7jc",
        "outputId": "cf378dc6-0748-491e-eb07-a5100e2febaf"
      },
      "execution_count": 23,
      "outputs": [
        {
          "output_type": "stream",
          "name": "stdout",
          "text": [
            "예측값: [ 3.4650253  -0.10751382]\n"
          ]
        },
        {
          "output_type": "stream",
          "name": "stderr",
          "text": [
            "/usr/local/lib/python3.9/dist-packages/sklearn/base.py:439: UserWarning: X does not have valid feature names, but LinearRegression was fitted with feature names\n",
            "  warnings.warn(\n"
          ]
        }
      ]
    },
    {
      "cell_type": "code",
      "source": [
        "#리스트 형태로 필요한 데이터 X3에 바인딩\n",
        "X3 = wine_data[[\"volatile acidity\", \"citric acid\", \"residual sugar\"]]\n",
        "y3 = wine_data[\"pH\"]\n",
        "\n",
        "#선형 모델 객체 생성\n",
        "model3 = sklearn.linear_model.LinearRegression()\n",
        "\n",
        "#모델한테 X3데이터를 주고, 정답값 y로 부터 최소제곱법으로 최적의 w를 찾아냄\n",
        "model3.fit(X3,y3)\n",
        "\n",
        "#예측\n",
        "#임의의 데이터 넣기 -->3개의 리스트를 넣으면 3개의 값으로 반환해줌\n",
        "X_new = [[0.7, 0, 1.9], [0.88, 0, 2.6], [0.76, 0.04, 2.3]]\n",
        "print(\"예측값:\", model3.predict(X_new))"
      ],
      "metadata": {
        "colab": {
          "base_uri": "https://localhost:8080/"
        },
        "id": "RGF8WSS2c2Lc",
        "outputId": "fae41a27-4401-457b-eaf6-5d6660fb5f8e"
      },
      "execution_count": 25,
      "outputs": [
        {
          "output_type": "stream",
          "name": "stdout",
          "text": [
            "예측값: [3.37654508 3.39368285 3.36989618]\n"
          ]
        },
        {
          "output_type": "stream",
          "name": "stderr",
          "text": [
            "/usr/local/lib/python3.9/dist-packages/sklearn/base.py:439: UserWarning: X does not have valid feature names, but LinearRegression was fitted with feature names\n",
            "  warnings.warn(\n"
          ]
        }
      ]
    },
    {
      "cell_type": "code",
      "source": [
        "#리스트 형태로 필요한 데이터 X4에 바인딩\n",
        "X4 = wine_data[[\"chlorides\", \"density\", \"pH\", \"sulphates\"]]\n",
        "y4 = wine_data[\"alcohol\"]\n",
        "\n",
        "#선형 모델 객체 생성\n",
        "model4 = sklearn.linear_model.LinearRegression()\n",
        "\n",
        "#모델한테 X4데이터를 주고, 정답값 y로 부터 최소제곱법으로 최적의 w를 찾아냄\n",
        "model4.fit(X4,y4)\n",
        "\n",
        "#예측\n",
        "#임의의 데이터 넣기\n",
        "X_new = [[0.076, 0.9978, 3.51, 0.56]]\n",
        "#.predict로 예측하기\n",
        "print(\"예측값:\", model4.predict(X_new))"
      ],
      "metadata": {
        "colab": {
          "base_uri": "https://localhost:8080/"
        },
        "id": "w8124SbrfIE3",
        "outputId": "b6e84435-438f-4152-f436-c91398e52fa4"
      },
      "execution_count": 27,
      "outputs": [
        {
          "output_type": "stream",
          "name": "stdout",
          "text": [
            "예측값: [9.81347355]\n"
          ]
        },
        {
          "output_type": "stream",
          "name": "stderr",
          "text": [
            "/usr/local/lib/python3.9/dist-packages/sklearn/base.py:439: UserWarning: X does not have valid feature names, but LinearRegression was fitted with feature names\n",
            "  warnings.warn(\n"
          ]
        }
      ]
    },
    {
      "cell_type": "code",
      "source": [],
      "metadata": {
        "id": "Jl61hzg7r90a"
      },
      "execution_count": null,
      "outputs": []
    }
  ]
}