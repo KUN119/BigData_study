{
  "nbformat": 4,
  "nbformat_minor": 0,
  "metadata": {
    "colab": {
      "provenance": []
    },
    "kernelspec": {
      "name": "python3",
      "display_name": "Python 3"
    },
    "language_info": {
      "name": "python"
    }
  },
  "cells": [
    {
      "cell_type": "code",
      "execution_count": 1,
      "metadata": {
        "colab": {
          "base_uri": "https://localhost:8080/"
        },
        "id": "OFq-EkyL5NyT",
        "outputId": "2bc1fedc-e0e8-45aa-9f28-23586d322d11"
      },
      "outputs": [
        {
          "output_type": "stream",
          "name": "stdout",
          "text": [
            "fixed acidity            7.4000\n",
            "volatile acidity         0.7000\n",
            "citric acid              0.0000\n",
            "residual sugar           1.9000\n",
            "chlorides                0.0760\n",
            "free sulfur dioxide     11.0000\n",
            "total sulfur dioxide    34.0000\n",
            "density                  0.9978\n",
            "pH                       3.5100\n",
            "sulphates                0.5600\n",
            "alcohol                  9.4000\n",
            "quality                  5.0000\n",
            "class                    1.0000\n",
            "Name: 0, dtype: float64\n"
          ]
        }
      ],
      "source": [
        "#pandas 임포트\n",
        "import pandas as pd\n",
        "\n",
        "#csv 파일 읽어와서 f에 바인딩\n",
        "f = pd.read_csv(\"/content/wine.csv\")\n",
        "\n",
        "#첫번째 행의 모든 열을 가져오기\n",
        "print(f.iloc[0,:])"
      ]
    },
    {
      "cell_type": "code",
      "source": [
        "#f변수의 correlation을 계산하여 반환\n",
        "f.corr()"
      ],
      "metadata": {
        "colab": {
          "base_uri": "https://localhost:8080/",
          "height": 639
        },
        "id": "FuhtD9Br5eSe",
        "outputId": "49bd95f4-9ff1-4e56-d49f-49cd9e3c7f06"
      },
      "execution_count": null,
      "outputs": [
        {
          "output_type": "execute_result",
          "data": {
            "text/plain": [
              "                      fixed acidity  volatile acidity  citric acid  \\\n",
              "fixed acidity              1.000000          0.219008     0.324436   \n",
              "volatile acidity           0.219008          1.000000    -0.377981   \n",
              "citric acid                0.324436         -0.377981     1.000000   \n",
              "residual sugar            -0.111981         -0.196011     0.142451   \n",
              "chlorides                  0.298195          0.377124     0.038998   \n",
              "free sulfur dioxide       -0.282735         -0.352557     0.133126   \n",
              "total sulfur dioxide      -0.329054         -0.414476     0.195242   \n",
              "density                    0.458910          0.271296     0.096154   \n",
              "pH                        -0.252700          0.261454    -0.329808   \n",
              "sulphates                  0.299568          0.225984     0.056197   \n",
              "alcohol                   -0.095452         -0.037640    -0.010493   \n",
              "quality                   -0.076743         -0.265699     0.085532   \n",
              "class                      0.486740          0.653036    -0.187397   \n",
              "\n",
              "                      residual sugar  chlorides  free sulfur dioxide  \\\n",
              "fixed acidity              -0.111981   0.298195            -0.282735   \n",
              "volatile acidity           -0.196011   0.377124            -0.352557   \n",
              "citric acid                 0.142451   0.038998             0.133126   \n",
              "residual sugar              1.000000  -0.128940             0.402871   \n",
              "chlorides                  -0.128940   1.000000            -0.195045   \n",
              "free sulfur dioxide         0.402871  -0.195045             1.000000   \n",
              "total sulfur dioxide        0.495482  -0.279630             0.720934   \n",
              "density                     0.552517   0.362615             0.025717   \n",
              "pH                         -0.267320   0.044708            -0.145854   \n",
              "sulphates                  -0.185927   0.395593            -0.188457   \n",
              "alcohol                    -0.359415  -0.256916            -0.179838   \n",
              "quality                    -0.036980  -0.200666             0.055463   \n",
              "class                      -0.348821   0.512678            -0.471644   \n",
              "\n",
              "                      total sulfur dioxide   density        pH  sulphates  \\\n",
              "fixed acidity                    -0.329054  0.458910 -0.252700   0.299568   \n",
              "volatile acidity                 -0.414476  0.271296  0.261454   0.225984   \n",
              "citric acid                       0.195242  0.096154 -0.329808   0.056197   \n",
              "residual sugar                    0.495482  0.552517 -0.267320  -0.185927   \n",
              "chlorides                        -0.279630  0.362615  0.044708   0.395593   \n",
              "free sulfur dioxide               0.720934  0.025717 -0.145854  -0.188457   \n",
              "total sulfur dioxide              1.000000  0.032395 -0.238413  -0.275727   \n",
              "density                           0.032395  1.000000  0.011686   0.259478   \n",
              "pH                               -0.238413  0.011686  1.000000   0.192123   \n",
              "sulphates                        -0.275727  0.259478  0.192123   1.000000   \n",
              "alcohol                          -0.265740 -0.686745  0.121248  -0.003029   \n",
              "quality                          -0.041385 -0.305858  0.019506   0.038485   \n",
              "class                            -0.700357  0.390645  0.329129   0.487218   \n",
              "\n",
              "                       alcohol   quality     class  \n",
              "fixed acidity        -0.095452 -0.076743  0.486740  \n",
              "volatile acidity     -0.037640 -0.265699  0.653036  \n",
              "citric acid          -0.010493  0.085532 -0.187397  \n",
              "residual sugar       -0.359415 -0.036980 -0.348821  \n",
              "chlorides            -0.256916 -0.200666  0.512678  \n",
              "free sulfur dioxide  -0.179838  0.055463 -0.471644  \n",
              "total sulfur dioxide -0.265740 -0.041385 -0.700357  \n",
              "density              -0.686745 -0.305858  0.390645  \n",
              "pH                    0.121248  0.019506  0.329129  \n",
              "sulphates            -0.003029  0.038485  0.487218  \n",
              "alcohol               1.000000  0.444319 -0.032970  \n",
              "quality               0.444319  1.000000 -0.119323  \n",
              "class                -0.032970 -0.119323  1.000000  "
            ],
            "text/html": [
              "\n",
              "  <div id=\"df-a5ec0b80-58d4-49ff-9313-18bc93cfcea7\">\n",
              "    <div class=\"colab-df-container\">\n",
              "      <div>\n",
              "<style scoped>\n",
              "    .dataframe tbody tr th:only-of-type {\n",
              "        vertical-align: middle;\n",
              "    }\n",
              "\n",
              "    .dataframe tbody tr th {\n",
              "        vertical-align: top;\n",
              "    }\n",
              "\n",
              "    .dataframe thead th {\n",
              "        text-align: right;\n",
              "    }\n",
              "</style>\n",
              "<table border=\"1\" class=\"dataframe\">\n",
              "  <thead>\n",
              "    <tr style=\"text-align: right;\">\n",
              "      <th></th>\n",
              "      <th>fixed acidity</th>\n",
              "      <th>volatile acidity</th>\n",
              "      <th>citric acid</th>\n",
              "      <th>residual sugar</th>\n",
              "      <th>chlorides</th>\n",
              "      <th>free sulfur dioxide</th>\n",
              "      <th>total sulfur dioxide</th>\n",
              "      <th>density</th>\n",
              "      <th>pH</th>\n",
              "      <th>sulphates</th>\n",
              "      <th>alcohol</th>\n",
              "      <th>quality</th>\n",
              "      <th>class</th>\n",
              "    </tr>\n",
              "  </thead>\n",
              "  <tbody>\n",
              "    <tr>\n",
              "      <th>fixed acidity</th>\n",
              "      <td>1.000000</td>\n",
              "      <td>0.219008</td>\n",
              "      <td>0.324436</td>\n",
              "      <td>-0.111981</td>\n",
              "      <td>0.298195</td>\n",
              "      <td>-0.282735</td>\n",
              "      <td>-0.329054</td>\n",
              "      <td>0.458910</td>\n",
              "      <td>-0.252700</td>\n",
              "      <td>0.299568</td>\n",
              "      <td>-0.095452</td>\n",
              "      <td>-0.076743</td>\n",
              "      <td>0.486740</td>\n",
              "    </tr>\n",
              "    <tr>\n",
              "      <th>volatile acidity</th>\n",
              "      <td>0.219008</td>\n",
              "      <td>1.000000</td>\n",
              "      <td>-0.377981</td>\n",
              "      <td>-0.196011</td>\n",
              "      <td>0.377124</td>\n",
              "      <td>-0.352557</td>\n",
              "      <td>-0.414476</td>\n",
              "      <td>0.271296</td>\n",
              "      <td>0.261454</td>\n",
              "      <td>0.225984</td>\n",
              "      <td>-0.037640</td>\n",
              "      <td>-0.265699</td>\n",
              "      <td>0.653036</td>\n",
              "    </tr>\n",
              "    <tr>\n",
              "      <th>citric acid</th>\n",
              "      <td>0.324436</td>\n",
              "      <td>-0.377981</td>\n",
              "      <td>1.000000</td>\n",
              "      <td>0.142451</td>\n",
              "      <td>0.038998</td>\n",
              "      <td>0.133126</td>\n",
              "      <td>0.195242</td>\n",
              "      <td>0.096154</td>\n",
              "      <td>-0.329808</td>\n",
              "      <td>0.056197</td>\n",
              "      <td>-0.010493</td>\n",
              "      <td>0.085532</td>\n",
              "      <td>-0.187397</td>\n",
              "    </tr>\n",
              "    <tr>\n",
              "      <th>residual sugar</th>\n",
              "      <td>-0.111981</td>\n",
              "      <td>-0.196011</td>\n",
              "      <td>0.142451</td>\n",
              "      <td>1.000000</td>\n",
              "      <td>-0.128940</td>\n",
              "      <td>0.402871</td>\n",
              "      <td>0.495482</td>\n",
              "      <td>0.552517</td>\n",
              "      <td>-0.267320</td>\n",
              "      <td>-0.185927</td>\n",
              "      <td>-0.359415</td>\n",
              "      <td>-0.036980</td>\n",
              "      <td>-0.348821</td>\n",
              "    </tr>\n",
              "    <tr>\n",
              "      <th>chlorides</th>\n",
              "      <td>0.298195</td>\n",
              "      <td>0.377124</td>\n",
              "      <td>0.038998</td>\n",
              "      <td>-0.128940</td>\n",
              "      <td>1.000000</td>\n",
              "      <td>-0.195045</td>\n",
              "      <td>-0.279630</td>\n",
              "      <td>0.362615</td>\n",
              "      <td>0.044708</td>\n",
              "      <td>0.395593</td>\n",
              "      <td>-0.256916</td>\n",
              "      <td>-0.200666</td>\n",
              "      <td>0.512678</td>\n",
              "    </tr>\n",
              "    <tr>\n",
              "      <th>free sulfur dioxide</th>\n",
              "      <td>-0.282735</td>\n",
              "      <td>-0.352557</td>\n",
              "      <td>0.133126</td>\n",
              "      <td>0.402871</td>\n",
              "      <td>-0.195045</td>\n",
              "      <td>1.000000</td>\n",
              "      <td>0.720934</td>\n",
              "      <td>0.025717</td>\n",
              "      <td>-0.145854</td>\n",
              "      <td>-0.188457</td>\n",
              "      <td>-0.179838</td>\n",
              "      <td>0.055463</td>\n",
              "      <td>-0.471644</td>\n",
              "    </tr>\n",
              "    <tr>\n",
              "      <th>total sulfur dioxide</th>\n",
              "      <td>-0.329054</td>\n",
              "      <td>-0.414476</td>\n",
              "      <td>0.195242</td>\n",
              "      <td>0.495482</td>\n",
              "      <td>-0.279630</td>\n",
              "      <td>0.720934</td>\n",
              "      <td>1.000000</td>\n",
              "      <td>0.032395</td>\n",
              "      <td>-0.238413</td>\n",
              "      <td>-0.275727</td>\n",
              "      <td>-0.265740</td>\n",
              "      <td>-0.041385</td>\n",
              "      <td>-0.700357</td>\n",
              "    </tr>\n",
              "    <tr>\n",
              "      <th>density</th>\n",
              "      <td>0.458910</td>\n",
              "      <td>0.271296</td>\n",
              "      <td>0.096154</td>\n",
              "      <td>0.552517</td>\n",
              "      <td>0.362615</td>\n",
              "      <td>0.025717</td>\n",
              "      <td>0.032395</td>\n",
              "      <td>1.000000</td>\n",
              "      <td>0.011686</td>\n",
              "      <td>0.259478</td>\n",
              "      <td>-0.686745</td>\n",
              "      <td>-0.305858</td>\n",
              "      <td>0.390645</td>\n",
              "    </tr>\n",
              "    <tr>\n",
              "      <th>pH</th>\n",
              "      <td>-0.252700</td>\n",
              "      <td>0.261454</td>\n",
              "      <td>-0.329808</td>\n",
              "      <td>-0.267320</td>\n",
              "      <td>0.044708</td>\n",
              "      <td>-0.145854</td>\n",
              "      <td>-0.238413</td>\n",
              "      <td>0.011686</td>\n",
              "      <td>1.000000</td>\n",
              "      <td>0.192123</td>\n",
              "      <td>0.121248</td>\n",
              "      <td>0.019506</td>\n",
              "      <td>0.329129</td>\n",
              "    </tr>\n",
              "    <tr>\n",
              "      <th>sulphates</th>\n",
              "      <td>0.299568</td>\n",
              "      <td>0.225984</td>\n",
              "      <td>0.056197</td>\n",
              "      <td>-0.185927</td>\n",
              "      <td>0.395593</td>\n",
              "      <td>-0.188457</td>\n",
              "      <td>-0.275727</td>\n",
              "      <td>0.259478</td>\n",
              "      <td>0.192123</td>\n",
              "      <td>1.000000</td>\n",
              "      <td>-0.003029</td>\n",
              "      <td>0.038485</td>\n",
              "      <td>0.487218</td>\n",
              "    </tr>\n",
              "    <tr>\n",
              "      <th>alcohol</th>\n",
              "      <td>-0.095452</td>\n",
              "      <td>-0.037640</td>\n",
              "      <td>-0.010493</td>\n",
              "      <td>-0.359415</td>\n",
              "      <td>-0.256916</td>\n",
              "      <td>-0.179838</td>\n",
              "      <td>-0.265740</td>\n",
              "      <td>-0.686745</td>\n",
              "      <td>0.121248</td>\n",
              "      <td>-0.003029</td>\n",
              "      <td>1.000000</td>\n",
              "      <td>0.444319</td>\n",
              "      <td>-0.032970</td>\n",
              "    </tr>\n",
              "    <tr>\n",
              "      <th>quality</th>\n",
              "      <td>-0.076743</td>\n",
              "      <td>-0.265699</td>\n",
              "      <td>0.085532</td>\n",
              "      <td>-0.036980</td>\n",
              "      <td>-0.200666</td>\n",
              "      <td>0.055463</td>\n",
              "      <td>-0.041385</td>\n",
              "      <td>-0.305858</td>\n",
              "      <td>0.019506</td>\n",
              "      <td>0.038485</td>\n",
              "      <td>0.444319</td>\n",
              "      <td>1.000000</td>\n",
              "      <td>-0.119323</td>\n",
              "    </tr>\n",
              "    <tr>\n",
              "      <th>class</th>\n",
              "      <td>0.486740</td>\n",
              "      <td>0.653036</td>\n",
              "      <td>-0.187397</td>\n",
              "      <td>-0.348821</td>\n",
              "      <td>0.512678</td>\n",
              "      <td>-0.471644</td>\n",
              "      <td>-0.700357</td>\n",
              "      <td>0.390645</td>\n",
              "      <td>0.329129</td>\n",
              "      <td>0.487218</td>\n",
              "      <td>-0.032970</td>\n",
              "      <td>-0.119323</td>\n",
              "      <td>1.000000</td>\n",
              "    </tr>\n",
              "  </tbody>\n",
              "</table>\n",
              "</div>\n",
              "      <button class=\"colab-df-convert\" onclick=\"convertToInteractive('df-a5ec0b80-58d4-49ff-9313-18bc93cfcea7')\"\n",
              "              title=\"Convert this dataframe to an interactive table.\"\n",
              "              style=\"display:none;\">\n",
              "        \n",
              "  <svg xmlns=\"http://www.w3.org/2000/svg\" height=\"24px\"viewBox=\"0 0 24 24\"\n",
              "       width=\"24px\">\n",
              "    <path d=\"M0 0h24v24H0V0z\" fill=\"none\"/>\n",
              "    <path d=\"M18.56 5.44l.94 2.06.94-2.06 2.06-.94-2.06-.94-.94-2.06-.94 2.06-2.06.94zm-11 1L8.5 8.5l.94-2.06 2.06-.94-2.06-.94L8.5 2.5l-.94 2.06-2.06.94zm10 10l.94 2.06.94-2.06 2.06-.94-2.06-.94-.94-2.06-.94 2.06-2.06.94z\"/><path d=\"M17.41 7.96l-1.37-1.37c-.4-.4-.92-.59-1.43-.59-.52 0-1.04.2-1.43.59L10.3 9.45l-7.72 7.72c-.78.78-.78 2.05 0 2.83L4 21.41c.39.39.9.59 1.41.59.51 0 1.02-.2 1.41-.59l7.78-7.78 2.81-2.81c.8-.78.8-2.07 0-2.86zM5.41 20L4 18.59l7.72-7.72 1.47 1.35L5.41 20z\"/>\n",
              "  </svg>\n",
              "      </button>\n",
              "      \n",
              "  <style>\n",
              "    .colab-df-container {\n",
              "      display:flex;\n",
              "      flex-wrap:wrap;\n",
              "      gap: 12px;\n",
              "    }\n",
              "\n",
              "    .colab-df-convert {\n",
              "      background-color: #E8F0FE;\n",
              "      border: none;\n",
              "      border-radius: 50%;\n",
              "      cursor: pointer;\n",
              "      display: none;\n",
              "      fill: #1967D2;\n",
              "      height: 32px;\n",
              "      padding: 0 0 0 0;\n",
              "      width: 32px;\n",
              "    }\n",
              "\n",
              "    .colab-df-convert:hover {\n",
              "      background-color: #E2EBFA;\n",
              "      box-shadow: 0px 1px 2px rgba(60, 64, 67, 0.3), 0px 1px 3px 1px rgba(60, 64, 67, 0.15);\n",
              "      fill: #174EA6;\n",
              "    }\n",
              "\n",
              "    [theme=dark] .colab-df-convert {\n",
              "      background-color: #3B4455;\n",
              "      fill: #D2E3FC;\n",
              "    }\n",
              "\n",
              "    [theme=dark] .colab-df-convert:hover {\n",
              "      background-color: #434B5C;\n",
              "      box-shadow: 0px 1px 3px 1px rgba(0, 0, 0, 0.15);\n",
              "      filter: drop-shadow(0px 1px 2px rgba(0, 0, 0, 0.3));\n",
              "      fill: #FFFFFF;\n",
              "    }\n",
              "  </style>\n",
              "\n",
              "      <script>\n",
              "        const buttonEl =\n",
              "          document.querySelector('#df-a5ec0b80-58d4-49ff-9313-18bc93cfcea7 button.colab-df-convert');\n",
              "        buttonEl.style.display =\n",
              "          google.colab.kernel.accessAllowed ? 'block' : 'none';\n",
              "\n",
              "        async function convertToInteractive(key) {\n",
              "          const element = document.querySelector('#df-a5ec0b80-58d4-49ff-9313-18bc93cfcea7');\n",
              "          const dataTable =\n",
              "            await google.colab.kernel.invokeFunction('convertToInteractive',\n",
              "                                                     [key], {});\n",
              "          if (!dataTable) return;\n",
              "\n",
              "          const docLinkHtml = 'Like what you see? Visit the ' +\n",
              "            '<a target=\"_blank\" href=https://colab.research.google.com/notebooks/data_table.ipynb>data table notebook</a>'\n",
              "            + ' to learn more about interactive tables.';\n",
              "          element.innerHTML = '';\n",
              "          dataTable['output_type'] = 'display_data';\n",
              "          await google.colab.output.renderOutput(dataTable, element);\n",
              "          const docLink = document.createElement('div');\n",
              "          docLink.innerHTML = docLinkHtml;\n",
              "          element.appendChild(docLink);\n",
              "        }\n",
              "      </script>\n",
              "    </div>\n",
              "  </div>\n",
              "  "
            ]
          },
          "metadata": {},
          "execution_count": 33
        }
      ]
    },
    {
      "cell_type": "code",
      "source": [
        "#X에 7가지 데이터 바인딩\n",
        "X = f[['volatile acidity','residual sugar','chlorides','total sulfur dioxide','density','quality','class']]\n",
        "#데이터 프레임 'f'에서 alcohol열만을 선택하여 y변수에 바인딩\n",
        "y = f['alcohol']\n",
        "\n",
        "#X 데이터프레임에서 첫 4000개의 행과 모든 열을 선택하여 X_train변수에 저장\n",
        "X_train = X.iloc[:4000,:]\n",
        "#X 데이터프레임에서 4000번째 행부터 마지막 행까지와 모든 열을 선택하여 X_valid에 저장\n",
        "X_valid = X.iloc[4000:,:]\n",
        "#이하동문\n",
        "y_train = y.iloc[:4000]\n",
        "y_valid = y.iloc[4000:]"
      ],
      "metadata": {
        "id": "1-NkYCzv55RH"
      },
      "execution_count": 3,
      "outputs": []
    },
    {
      "cell_type": "code",
      "source": [
        "print(len(X_train))\n",
        "print(len(X_valid))\n",
        "print(len(y_train))\n",
        "print(len(y_valid))"
      ],
      "metadata": {
        "colab": {
          "base_uri": "https://localhost:8080/"
        },
        "id": "WRwSNinP7ga4",
        "outputId": "312976bf-23a7-4bb4-b4b8-4dd1917205a3"
      },
      "execution_count": null,
      "outputs": [
        {
          "output_type": "stream",
          "name": "stdout",
          "text": [
            "4000\n",
            "2497\n",
            "4000\n",
            "2497\n"
          ]
        }
      ]
    },
    {
      "cell_type": "code",
      "source": [
        "#다항 회귀 모델에 필요한 특성을 생성한는 작업\n",
        "from sklearn.preprocessing import PolynomialFeatures\n",
        "\n",
        "#degree파라미터는 생성할 다항식의 최고 차수를 지정하며, ->2차 다항식 생성\n",
        "#include_bias파라미터는 절편(intercept)을 생성할지 여부를 지정 -> 절편 생성 x\n",
        "poly_features = PolynomialFeatures(degree=2, include_bias=False)\n",
        "\n",
        "#X_train데이터를 이용하여 다항식 특성을 생성하고,\n",
        "#이를 학습시키기 위한 파라미터 계산\n",
        "poly_features.fit(X_train)\n",
        "\n",
        "#transform메소드를 호출하여 X_train데이터를 변환\n",
        "#poly_X는 다항식 특성이 추가도니 새로운 데이터 셋\n",
        "poly_X= poly_features.transform(X_train)\n",
        "\n",
        "'''\n",
        "위코드는 PolynomialFeatures 객체를 이용하여 다항 회귀 모델에 필요한 다항식 특성을 생성하고,\n",
        "이를 훈련용 데이터셋 X_train에 추가하여 새로운 데이터셋 poly_X를 생성하는 작업을 수행\n",
        "이렇게 생성된 poly_X는 기존의 X_train데이터에 비해 다양한 다항식 특성을 추가함으로써\n",
        "모델의 학습과 예측 성능을 향상시킬 수 있음\n",
        "'''"
      ],
      "metadata": {
        "id": "d4hES4J36NHG",
        "colab": {
          "base_uri": "https://localhost:8080/",
          "height": 54
        },
        "outputId": "3eacaf4c-aeb4-4670-e92e-2ee96fa5caef"
      },
      "execution_count": 4,
      "outputs": [
        {
          "output_type": "execute_result",
          "data": {
            "text/plain": [
              "'\\n위코드는 PolynomialFeatures 객체를 이용하여 다항 회귀 모델에 필요한 다항식 특성을 생성하고,\\n이를 훈련용 데이터셋 X_train에 추가하여 새로운 데이터셋 poly_X를 생성하는 작업을 수행\\n이렇게 생성된 poly_X는 기존의 X_train데이터에 비해 다양한 다항식 특성을 추가함으로써\\n모델의 학습과 예측 성능을 향상시킬 수 있음\\n'"
            ],
            "application/vnd.google.colaboratory.intrinsic+json": {
              "type": "string"
            }
          },
          "metadata": {},
          "execution_count": 4
        }
      ]
    },
    {
      "cell_type": "markdown",
      "source": [],
      "metadata": {
        "id": "63Qen24UEGAn"
      }
    },
    {
      "cell_type": "code",
      "source": [
        "#sklearn라이브러리의 SGDRegressor클래스를 사용하여, 다항 회귀 모델을 학습\n",
        "from sklearn.linear_model import SGDRegressor\n",
        "'''\n",
        "SGDRegressor클래스의 sgd_reg인스턴스 생성\n",
        "max_iter(반복횟수), tol(종료기준), penalty(정규화 항),\n",
        "eta0(학습률), random_state(랜덤 시드)설정\n",
        "'''\n",
        "sgd_reg = SGDRegressor(max_iter=50, tol=1e-3, penalty=None, eta0=0.1, random_state=42)\n",
        "\n",
        "#fit 메서드를 홀출하여 다항 회귀 모델을 학습\n",
        "#이 때, 입력변수(poly_X)를 사용하고, 타겟변수(y_train)를 사용\n",
        "sgd_reg.fit(poly_X, y_train)"
      ],
      "metadata": {
        "colab": {
          "base_uri": "https://localhost:8080/",
          "height": 131
        },
        "id": "hNN3TGbg6aP1",
        "outputId": "c1fd83f9-91bc-4e52-d456-aa94a3f0012b"
      },
      "execution_count": 5,
      "outputs": [
        {
          "output_type": "stream",
          "name": "stderr",
          "text": [
            "/usr/local/lib/python3.9/dist-packages/sklearn/linear_model/_stochastic_gradient.py:1548: ConvergenceWarning: Maximum number of iteration reached before convergence. Consider increasing max_iter to improve the fit.\n",
            "  warnings.warn(\n"
          ]
        },
        {
          "output_type": "execute_result",
          "data": {
            "text/plain": [
              "SGDRegressor(eta0=0.1, max_iter=50, penalty=None, random_state=42)"
            ],
            "text/html": [
              "<style>#sk-container-id-1 {color: black;background-color: white;}#sk-container-id-1 pre{padding: 0;}#sk-container-id-1 div.sk-toggleable {background-color: white;}#sk-container-id-1 label.sk-toggleable__label {cursor: pointer;display: block;width: 100%;margin-bottom: 0;padding: 0.3em;box-sizing: border-box;text-align: center;}#sk-container-id-1 label.sk-toggleable__label-arrow:before {content: \"▸\";float: left;margin-right: 0.25em;color: #696969;}#sk-container-id-1 label.sk-toggleable__label-arrow:hover:before {color: black;}#sk-container-id-1 div.sk-estimator:hover label.sk-toggleable__label-arrow:before {color: black;}#sk-container-id-1 div.sk-toggleable__content {max-height: 0;max-width: 0;overflow: hidden;text-align: left;background-color: #f0f8ff;}#sk-container-id-1 div.sk-toggleable__content pre {margin: 0.2em;color: black;border-radius: 0.25em;background-color: #f0f8ff;}#sk-container-id-1 input.sk-toggleable__control:checked~div.sk-toggleable__content {max-height: 200px;max-width: 100%;overflow: auto;}#sk-container-id-1 input.sk-toggleable__control:checked~label.sk-toggleable__label-arrow:before {content: \"▾\";}#sk-container-id-1 div.sk-estimator input.sk-toggleable__control:checked~label.sk-toggleable__label {background-color: #d4ebff;}#sk-container-id-1 div.sk-label input.sk-toggleable__control:checked~label.sk-toggleable__label {background-color: #d4ebff;}#sk-container-id-1 input.sk-hidden--visually {border: 0;clip: rect(1px 1px 1px 1px);clip: rect(1px, 1px, 1px, 1px);height: 1px;margin: -1px;overflow: hidden;padding: 0;position: absolute;width: 1px;}#sk-container-id-1 div.sk-estimator {font-family: monospace;background-color: #f0f8ff;border: 1px dotted black;border-radius: 0.25em;box-sizing: border-box;margin-bottom: 0.5em;}#sk-container-id-1 div.sk-estimator:hover {background-color: #d4ebff;}#sk-container-id-1 div.sk-parallel-item::after {content: \"\";width: 100%;border-bottom: 1px solid gray;flex-grow: 1;}#sk-container-id-1 div.sk-label:hover label.sk-toggleable__label {background-color: #d4ebff;}#sk-container-id-1 div.sk-serial::before {content: \"\";position: absolute;border-left: 1px solid gray;box-sizing: border-box;top: 0;bottom: 0;left: 50%;z-index: 0;}#sk-container-id-1 div.sk-serial {display: flex;flex-direction: column;align-items: center;background-color: white;padding-right: 0.2em;padding-left: 0.2em;position: relative;}#sk-container-id-1 div.sk-item {position: relative;z-index: 1;}#sk-container-id-1 div.sk-parallel {display: flex;align-items: stretch;justify-content: center;background-color: white;position: relative;}#sk-container-id-1 div.sk-item::before, #sk-container-id-1 div.sk-parallel-item::before {content: \"\";position: absolute;border-left: 1px solid gray;box-sizing: border-box;top: 0;bottom: 0;left: 50%;z-index: -1;}#sk-container-id-1 div.sk-parallel-item {display: flex;flex-direction: column;z-index: 1;position: relative;background-color: white;}#sk-container-id-1 div.sk-parallel-item:first-child::after {align-self: flex-end;width: 50%;}#sk-container-id-1 div.sk-parallel-item:last-child::after {align-self: flex-start;width: 50%;}#sk-container-id-1 div.sk-parallel-item:only-child::after {width: 0;}#sk-container-id-1 div.sk-dashed-wrapped {border: 1px dashed gray;margin: 0 0.4em 0.5em 0.4em;box-sizing: border-box;padding-bottom: 0.4em;background-color: white;}#sk-container-id-1 div.sk-label label {font-family: monospace;font-weight: bold;display: inline-block;line-height: 1.2em;}#sk-container-id-1 div.sk-label-container {text-align: center;}#sk-container-id-1 div.sk-container {/* jupyter's `normalize.less` sets `[hidden] { display: none; }` but bootstrap.min.css set `[hidden] { display: none !important; }` so we also need the `!important` here to be able to override the default hidden behavior on the sphinx rendered scikit-learn.org. See: https://github.com/scikit-learn/scikit-learn/issues/21755 */display: inline-block !important;position: relative;}#sk-container-id-1 div.sk-text-repr-fallback {display: none;}</style><div id=\"sk-container-id-1\" class=\"sk-top-container\"><div class=\"sk-text-repr-fallback\"><pre>SGDRegressor(eta0=0.1, max_iter=50, penalty=None, random_state=42)</pre><b>In a Jupyter environment, please rerun this cell to show the HTML representation or trust the notebook. <br />On GitHub, the HTML representation is unable to render, please try loading this page with nbviewer.org.</b></div><div class=\"sk-container\" hidden><div class=\"sk-item\"><div class=\"sk-estimator sk-toggleable\"><input class=\"sk-toggleable__control sk-hidden--visually\" id=\"sk-estimator-id-1\" type=\"checkbox\" checked><label for=\"sk-estimator-id-1\" class=\"sk-toggleable__label sk-toggleable__label-arrow\">SGDRegressor</label><div class=\"sk-toggleable__content\"><pre>SGDRegressor(eta0=0.1, max_iter=50, penalty=None, random_state=42)</pre></div></div></div></div></div>"
            ]
          },
          "metadata": {},
          "execution_count": 5
        }
      ]
    },
    {
      "cell_type": "code",
      "source": [
        "\n",
        "#import numpy as np\n",
        "\n",
        "#poly_features객체를 사용하여 다항식 생성\n",
        "#생성된 다항식 객체를 transform()메서드로 X_valid데이터를 다항식으로 변환\n",
        "#변환된 X_new_poly를 사용하여 모델이 새로운 데이터에 대해 예측을 수행함\n",
        "X_new_poly = poly_features.transform(X_valid)\n",
        "print(X_new_poly)"
      ],
      "metadata": {
        "id": "r4Hvom9N6oVA",
        "colab": {
          "base_uri": "https://localhost:8080/"
        },
        "outputId": "d7600285-c87c-4ffa-9e7d-fc330e45439d"
      },
      "execution_count": 8,
      "outputs": [
        {
          "output_type": "stream",
          "name": "stdout",
          "text": [
            "[[1.6e-01 2.0e+00 4.4e-02 ... 1.6e+01 0.0e+00 0.0e+00]\n",
            " [2.6e-01 8.2e+00 3.8e-02 ... 3.6e+01 0.0e+00 0.0e+00]\n",
            " [3.3e-01 2.1e+00 3.4e-02 ... 3.6e+01 0.0e+00 0.0e+00]\n",
            " ...\n",
            " [2.4e-01 1.2e+00 4.1e-02 ... 3.6e+01 0.0e+00 0.0e+00]\n",
            " [2.9e-01 1.1e+00 2.2e-02 ... 4.9e+01 0.0e+00 0.0e+00]\n",
            " [2.1e-01 8.0e-01 2.0e-02 ... 3.6e+01 0.0e+00 0.0e+00]]\n"
          ]
        }
      ]
    },
    {
      "cell_type": "code",
      "source": [
        "#모델의 성능을 평가하기 위해 평균 제곱 오차(MSE)를 계산하고 출력하는 코드\n",
        "from sklearn.metrics import mean_squared_error\n",
        "\n",
        "#sgd_reg를 사용하여 예측값 y_predict를 계산\n",
        "y_predict = sgd_reg.predict(X_new_poly)\n",
        "\n",
        "#mean_squared_error()함수는 예측값과 실제값 사이의 평균 제곱 오차를 계산함\n",
        "#예측한 결과인 y_predict와 실제 결과인 y_valid를 사용\n",
        "print(mean_squared_error(y_predict,y_valid))\n",
        "\n",
        "#MSE가 낮을수록 모델의 예측이 실제 결과에 가까움"
      ],
      "metadata": {
        "colab": {
          "base_uri": "https://localhost:8080/"
        },
        "id": "JaJLsMUV6xdl",
        "outputId": "8ec6fa5b-dda5-42e6-e817-8c94a9fd15f1"
      },
      "execution_count": 7,
      "outputs": [
        {
          "output_type": "stream",
          "name": "stdout",
          "text": [
            "8.025251371673693e+35\n"
          ]
        }
      ]
    },
    {
      "cell_type": "code",
      "source": [],
      "metadata": {
        "id": "G04Pw1IR747N"
      },
      "execution_count": null,
      "outputs": []
    }
  ]
}