{
  "nbformat": 4,
  "nbformat_minor": 0,
  "metadata": {
    "colab": {
      "provenance": []
    },
    "kernelspec": {
      "name": "python3",
      "display_name": "Python 3"
    },
    "language_info": {
      "name": "python"
    }
  },
  "cells": [
    {
      "cell_type": "code",
      "execution_count": 1,
      "metadata": {
        "colab": {
          "base_uri": "https://localhost:8080/"
        },
        "id": "lyiNnlxQn4LJ",
        "outputId": "5b57c6a7-e4df-4d83-ce19-30b15ebab15c"
      },
      "outputs": [
        {
          "output_type": "stream",
          "name": "stdout",
          "text": [
            "[0, 6, 12, 18, 24, 30, 36, 42, 48, 54, 60, 66, 72, 78, 84, 90, 96]\n"
          ]
        }
      ],
      "source": [
        "#0부터 99까지의 정수 중에서 2의 배수이고 동시에 3의 배수인 수들을 모아서\n",
        "#리스트로 만들기\n",
        "\n",
        "numbers = [x for x in range(100) if x % 2 == 0 and x % 3 == 0]\n",
        "print(numbers)"
      ]
    },
    {
      "cell_type": "code",
      "source": [
        "#0부터 9까지의 정수 중 짝수면 '짝수'로 홀수면 '홀수'로 리스트에 추가하는 리스트\n",
        "\n",
        "alist = ['짝수' if i % 2==0 else '홀수' for i in range(10)]\n",
        "print(alist)"
      ],
      "metadata": {
        "colab": {
          "base_uri": "https://localhost:8080/"
        },
        "id": "b8i0Q4MeoCKa",
        "outputId": "8cd34528-8fb2-4be2-962e-f32b9a5896c8"
      },
      "execution_count": 2,
      "outputs": [
        {
          "output_type": "stream",
          "name": "stdout",
          "text": [
            "['짝수', '홀수', '짝수', '홀수', '짝수', '홀수', '짝수', '홀수', '짝수', '홀수']\n"
          ]
        }
      ]
    },
    {
      "cell_type": "code",
      "source": [
        "#2차원 리스트 \n",
        "\n",
        "s=[\n",
        "    [1,2,3,4,5],\n",
        "   [6,7,8,9,10],\n",
        "   [11,12,13,14,15]\n",
        "]\n",
        "\n",
        "print(s)\n",
        "print(s[1][2]) #리스트에 있는 8을 출력해보기\n",
        "print(s[1][2:4]) #응용"
      ],
      "metadata": {
        "colab": {
          "base_uri": "https://localhost:8080/"
        },
        "id": "cFKaLCKooiao",
        "outputId": "9915daa4-5094-40a4-8ff6-7f136b0413c4"
      },
      "execution_count": 9,
      "outputs": [
        {
          "output_type": "stream",
          "name": "stdout",
          "text": [
            "[[1, 2, 3, 4, 5], [6, 7, 8, 9, 10], [11, 12, 13, 14, 15]]\n",
            "8\n",
            "[8, 9]\n"
          ]
        }
      ]
    },
    {
      "cell_type": "code",
      "source": [
        "#2차원 리스트\n",
        "matrix1 = []\n",
        "\n",
        "for _ in range(6):\n",
        "  matrix2 = []\n",
        "  for i in range(5):\n",
        "    matrix2.append(i)\n",
        "  matrix1.append(matrix2)\n",
        "\n",
        "print(matrix1)\n",
        "\n",
        "#위랑 똑같은 코드\n",
        "matrix = [[i for i in range(5)] for _ in range(6)]\n",
        "print(matrix)"
      ],
      "metadata": {
        "colab": {
          "base_uri": "https://localhost:8080/"
        },
        "id": "MVROtT65pLNK",
        "outputId": "820183d4-e926-486c-d538-52b3a797872e"
      },
      "execution_count": 12,
      "outputs": [
        {
          "output_type": "stream",
          "name": "stdout",
          "text": [
            "[[0, 1, 2, 3, 4], [0, 1, 2, 3, 4], [0, 1, 2, 3, 4], [0, 1, 2, 3, 4], [0, 1, 2, 3, 4], [0, 1, 2, 3, 4]]\n",
            "[[0, 1, 2, 3, 4], [0, 1, 2, 3, 4], [0, 1, 2, 3, 4], [0, 1, 2, 3, 4], [0, 1, 2, 3, 4], [0, 1, 2, 3, 4]]\n"
          ]
        }
      ]
    },
    {
      "cell_type": "code",
      "source": [
        "matrix = [[0,0,0],[1,1,1],[2,2,2,]]\n",
        "\n",
        "result = []\n",
        "\n",
        "for row in matrix:\n",
        "  for num in row:\n",
        "    result.append(num)\n",
        "\n",
        "print(result)\n",
        "\n",
        "#위랑 똑같은 코드\n",
        "result2=[num for row in matrix for num in row]\n",
        "print(result2)"
      ],
      "metadata": {
        "colab": {
          "base_uri": "https://localhost:8080/"
        },
        "id": "1KPvBuoBq0PV",
        "outputId": "42b0535d-4cd8-4fa7-ddbf-0bb021646287"
      },
      "execution_count": 15,
      "outputs": [
        {
          "output_type": "stream",
          "name": "stdout",
          "text": [
            "[0, 0, 0, 1, 1, 1, 2, 2, 2]\n",
            "[0, 0, 0, 1, 1, 1, 2, 2, 2]\n"
          ]
        }
      ]
    },
    {
      "cell_type": "code",
      "source": [
        "matrix = [['하나','둘','셋'],['넷','다섯','여섯'],['일곱','여덟','아홉']]\n",
        "\n",
        "count = 1\n",
        "for row in matrix:\n",
        "  for num in row:\n",
        "    print(count, num)\n",
        "    count+=1  \n",
        "\n"
      ],
      "metadata": {
        "colab": {
          "base_uri": "https://localhost:8080/"
        },
        "id": "t7RxPJ93sD3s",
        "outputId": "585dceca-be30-4cc9-f331-0d9531be1b7a"
      },
      "execution_count": 29,
      "outputs": [
        {
          "output_type": "stream",
          "name": "stdout",
          "text": [
            "1 하나\n",
            "2 둘\n",
            "3 셋\n",
            "4 넷\n",
            "5 다섯\n",
            "6 여섯\n",
            "7 일곱\n",
            "8 여덟\n",
            "9 아홉\n"
          ]
        }
      ]
    },
    {
      "cell_type": "code",
      "source": [
        "#enumerate() 사용하기\n",
        "\n",
        "fruits = [\"apple\", \"banana\", \"grape\"]\n",
        "print(list(enumerate(fruits)))\n",
        "for index, value in enumerate(fruits):\n",
        "  print(index, value)"
      ],
      "metadata": {
        "colab": {
          "base_uri": "https://localhost:8080/"
        },
        "id": "hlHe5qkhtLWu",
        "outputId": "5273355f-aafa-42a4-e63f-b42c059881b3"
      },
      "execution_count": 30,
      "outputs": [
        {
          "output_type": "stream",
          "name": "stdout",
          "text": [
            "[(0, 'apple'), (1, 'banana'), (2, 'grape')]\n",
            "0 apple\n",
            "1 banana\n",
            "2 grape\n"
          ]
        }
      ]
    },
    {
      "cell_type": "code",
      "source": [
        "#set()\n",
        "\n",
        "aList=[1,2,3,4,5,1,2]\n",
        "result={ x for x in aList if x%2==0 }\n",
        "\n",
        "print(result) #set는 중복허용이 안되기 때문에 2가 하나만 나옴"
      ],
      "metadata": {
        "colab": {
          "base_uri": "https://localhost:8080/"
        },
        "id": "o5C4ZX_A7Pk4",
        "outputId": "5e43ee8c-128e-4fe8-cf61-701bfad87fae"
      },
      "execution_count": 31,
      "outputs": [
        {
          "output_type": "stream",
          "name": "stdout",
          "text": [
            "{2, 4}\n"
          ]
        }
      ]
    },
    {
      "cell_type": "code",
      "source": [
        "#리스트 공통 수 뽑기\n",
        "\n",
        "list1=[1,2,3,4,5]\n",
        "list2=[3,4,5,6,7]\n",
        "set(list1)&set(list2)\n"
      ],
      "metadata": {
        "colab": {
          "base_uri": "https://localhost:8080/"
        },
        "id": "8_yEQv1N8TiN",
        "outputId": "1925d17a-8064-4d3c-d027-b9f84c248e7b"
      },
      "execution_count": 34,
      "outputs": [
        {
          "output_type": "execute_result",
          "data": {
            "text/plain": [
              "{3, 4, 5}"
            ]
          },
          "metadata": {},
          "execution_count": 34
        }
      ]
    },
    {
      "cell_type": "code",
      "source": [
        "#리스트 세트 변환\n",
        "\n",
        "list1=[1,2,3,4,5,1,2,4]\n",
        "len(set(list1))\n"
      ],
      "metadata": {
        "colab": {
          "base_uri": "https://localhost:8080/"
        },
        "id": "F01kiuQ69l2n",
        "outputId": "e27aead8-7833-473b-9487-5891ae623e7a"
      },
      "execution_count": 35,
      "outputs": [
        {
          "output_type": "execute_result",
          "data": {
            "text/plain": [
              "5"
            ]
          },
          "metadata": {},
          "execution_count": 35
        }
      ]
    },
    {
      "cell_type": "code",
      "source": [
        "#딕셔너리 키와 값으로 구성 -> map이랑 비슷하네\n",
        "\n",
        "capitals={\"Korea\":\"Seoul\", \"USA\":\"Washinton\", \"UK\":\"London\"}\n",
        "print(capitals)\n",
        "print(capitals[\"Korea\"]) #Korea키 값을 넣어서 프린트하면 값을 가져옴"
      ],
      "metadata": {
        "colab": {
          "base_uri": "https://localhost:8080/"
        },
        "id": "k8GEIqQ891OE",
        "outputId": "687038f3-7098-4b05-cc50-280eaf7220a5"
      },
      "execution_count": 38,
      "outputs": [
        {
          "output_type": "stream",
          "name": "stdout",
          "text": [
            "{'Korea': 'Seoul', 'USA': 'Washinton', 'UK': 'London'}\n",
            "Seoul\n"
          ]
        }
      ]
    },
    {
      "cell_type": "code",
      "source": [
        "#딕셔너리 항목 추가하기\n",
        "\n",
        "capitals={}\n",
        "capitals[\"Korea\"]=\"Seoul\"\n",
        "capitals[\"USA\"]=\"Washington\"\n",
        "capitals[\"UK\"]=\"London\"\n",
        "capitals[\"France\"]=\"Paris\"\n",
        "\n",
        "print(capitals)"
      ],
      "metadata": {
        "colab": {
          "base_uri": "https://localhost:8080/"
        },
        "id": "p6SokzbD-JJC",
        "outputId": "51d127ad-52ca-412d-e1d7-7a17ed72db22"
      },
      "execution_count": 40,
      "outputs": [
        {
          "output_type": "stream",
          "name": "stdout",
          "text": [
            "{'Korea': 'Seoul', 'USA': 'Washington', 'UK': 'London', 'France': 'Paris'}\n"
          ]
        }
      ]
    },
    {
      "cell_type": "code",
      "source": [
        "#딕셔너리 항목 삭제하기\n",
        "\n",
        "capitals={\"Korea\":\"Seoul\", \"USA\":\"Washinton\", \"UK\":\"London\"}\n",
        "\n",
        "#바로 .pop으로 삭제해도 되지만 if문으로 있으면 삭제하기\n",
        "if \"UK\" in capitals:\n",
        "  capitals.pop(\"UK\") #key를 넣으면 됨\n",
        "\n",
        "print(capitals)"
      ],
      "metadata": {
        "colab": {
          "base_uri": "https://localhost:8080/"
        },
        "id": "F5vOC4XI-xlD",
        "outputId": "5d0ff1dd-2dec-44b6-931f-004f889af43c"
      },
      "execution_count": 42,
      "outputs": [
        {
          "output_type": "stream",
          "name": "stdout",
          "text": [
            "{'Korea': 'Seoul', 'USA': 'Washinton'}\n"
          ]
        }
      ]
    },
    {
      "cell_type": "code",
      "source": [
        "capitals = {\"Korea\":\"Seoul\"}\n",
        "c = capitals.pop(\"Korea\")\n",
        "print(c)\n",
        "print(capitals)"
      ],
      "metadata": {
        "colab": {
          "base_uri": "https://localhost:8080/"
        },
        "id": "Tv578Ma3_CnL",
        "outputId": "2ea2e09d-95ca-47d5-9b44-f3fe4030cd35"
      },
      "execution_count": 44,
      "outputs": [
        {
          "output_type": "stream",
          "name": "stdout",
          "text": [
            "Seoul\n",
            "{}\n"
          ]
        }
      ]
    },
    {
      "cell_type": "code",
      "source": [
        "capitals={\"Korea\":\"Seoul\", \"USA\":\"Washinton\", \"UK\":\"London\"}\n",
        "\n",
        "print(capitals.items())\n",
        "print(capitals.keys())\n",
        "print(capitals.values())\n",
        "\n",
        "print(list(capitals.items())[0])"
      ],
      "metadata": {
        "colab": {
          "base_uri": "https://localhost:8080/"
        },
        "id": "iGinaBe-_drM",
        "outputId": "65fd6314-d318-4554-dbc1-2aa9530572e6"
      },
      "execution_count": 48,
      "outputs": [
        {
          "output_type": "stream",
          "name": "stdout",
          "text": [
            "dict_items([('Korea', 'Seoul'), ('USA', 'Washinton'), ('UK', 'London')])\n",
            "dict_keys(['Korea', 'USA', 'UK'])\n",
            "dict_values(['Seoul', 'Washinton', 'London'])\n",
            "('Korea', 'Seoul')\n"
          ]
        }
      ]
    },
    {
      "cell_type": "code",
      "source": [
        "capitals={\"Korea\":\"Seoul\", \"USA\":\"Washinton\", \"UK\":\"London\"}\n",
        "\n",
        "for key in capitals.items():\n",
        "  print(key)\n",
        "\n",
        "print(\"-------------------\")\n",
        "\n",
        "#언패킹\n",
        "for k, v in capitals.items():\n",
        "  print(k, v) "
      ],
      "metadata": {
        "colab": {
          "base_uri": "https://localhost:8080/"
        },
        "id": "d6r6VBkLAK2D",
        "outputId": "a29fa3eb-8539-4ae5-eefc-5a0e02f7a653"
      },
      "execution_count": 52,
      "outputs": [
        {
          "output_type": "stream",
          "name": "stdout",
          "text": [
            "('Korea', 'Seoul')\n",
            "('USA', 'Washinton')\n",
            "('UK', 'London')\n",
            "-------------------\n",
            "Korea Seoul\n",
            "USA Washinton\n",
            "UK London\n"
          ]
        }
      ]
    },
    {
      "cell_type": "code",
      "source": [
        "for key in sorted(capitals.keys()):\n",
        "  print(key,end=\" \")"
      ],
      "metadata": {
        "colab": {
          "base_uri": "https://localhost:8080/"
        },
        "id": "VGKehQm8AvT8",
        "outputId": "a433cbd0-4abb-4ce3-c951-be15ed447c59"
      },
      "execution_count": 54,
      "outputs": [
        {
          "output_type": "stream",
          "name": "stdout",
          "text": [
            "Korea UK USA "
          ]
        }
      ]
    },
    {
      "cell_type": "code",
      "source": [
        "#딕셔너리 함축\n",
        "\n",
        "values=[1,2,3,4,5,6]\n",
        "\n",
        "dic={x:x**2 for x in values if x%2==0}\n",
        "print(dic)"
      ],
      "metadata": {
        "id": "lPlDFmnUBjxJ"
      },
      "execution_count": null,
      "outputs": []
    },
    {
      "cell_type": "code",
      "source": [
        "#key 값으로 in을 쓸 수 있지만\n",
        "#value 값으로는 in을 쓸 수 없음\n",
        "capitals={\"Korea\":\"Seoul\", \"USA\":\"Washinton\", \"UK\":\"London\"}\n",
        "\n",
        "print(\"Korea\" in capitals)\n",
        "\"Seoul\" in capitals"
      ],
      "metadata": {
        "colab": {
          "base_uri": "https://localhost:8080/"
        },
        "id": "h6REIvDVFLyG",
        "outputId": "bf169689-c0c4-42ad-c1ff-e05ad4d418d6"
      },
      "execution_count": 57,
      "outputs": [
        {
          "output_type": "stream",
          "name": "stdout",
          "text": [
            "True\n"
          ]
        },
        {
          "output_type": "execute_result",
          "data": {
            "text/plain": [
              "False"
            ]
          },
          "metadata": {},
          "execution_count": 57
        }
      ]
    },
    {
      "cell_type": "code",
      "source": [
        "#회문 검사기\n",
        "\n",
        "s = input(\"문자열을 입력하시오:\")\n",
        "\n",
        "s1 = s[::-1]\n",
        "\n",
        "if(s==s1):\n",
        "  print(\"회문입니다.\")\n",
        "else:\n",
        "  print(\"회문이 아닙니다.\")"
      ],
      "metadata": {
        "colab": {
          "base_uri": "https://localhost:8080/"
        },
        "id": "ZhLjAHewFPNf",
        "outputId": "f7805147-0814-4c80-98b6-2a7931fa7515"
      },
      "execution_count": 59,
      "outputs": [
        {
          "output_type": "stream",
          "name": "stdout",
          "text": [
            "문자열을 입력하시오:AAA\n",
            "회문입니다.\n"
          ]
        }
      ]
    },
    {
      "cell_type": "code",
      "source": [
        "#문자분류\n",
        "\n",
        "print(\"ABCabc\".isalpha())\n",
        "\n",
        "print(\"123\".isdigit())\n",
        "\n",
        "\"abc\".islower()"
      ],
      "metadata": {
        "id": "iJPLuOz9HMdq"
      },
      "execution_count": null,
      "outputs": []
    },
    {
      "cell_type": "code",
      "source": [
        "#공백제거 strip()\n",
        "#문자열 분해하기 split(), list(\"\")->문자가 있으면 하나씩 다 리스트함"
      ],
      "metadata": {
        "id": "q3w78UmXIzdi"
      },
      "execution_count": null,
      "outputs": []
    },
    {
      "cell_type": "code",
      "source": [
        "class Avante: #아반떼 설계도, 차 속성은 가격만 설정\n",
        "  def __init__(self, price):\n",
        "    self.price = price\n",
        "\n",
        "myAvante = Avante(2500)\n"
      ],
      "metadata": {
        "colab": {
          "base_uri": "https://localhost:8080/"
        },
        "id": "8BaJYgfPprT1",
        "outputId": "7b76664d-ca5f-4aa4-c490-159e81bd5ea5"
      },
      "execution_count": 61,
      "outputs": [
        {
          "output_type": "stream",
          "name": "stdout",
          "text": [
            "<__main__.Avante object at 0x7f759684c940>\n"
          ]
        }
      ]
    },
    {
      "cell_type": "code",
      "source": [
        "class Avante: #아반떼 설계도, 차 속성은 가격만 설정\n",
        "  def __init__(self, price, color): #initialization 함수, 특수 메소드\n",
        "    print(\"객체 생성\")\n",
        "    print(price)\n",
        "    print(color)\n",
        "\n",
        "myAvante = Avante(2500, \"red\")\n",
        "\n"
      ],
      "metadata": {
        "colab": {
          "base_uri": "https://localhost:8080/"
        },
        "id": "K3M9rzCMqD8h",
        "outputId": "72dac6c2-1d8b-43da-92e4-4461a2fff85b"
      },
      "execution_count": 72,
      "outputs": [
        {
          "output_type": "stream",
          "name": "stdout",
          "text": [
            "객체 생성\n",
            "2500\n",
            "red\n"
          ]
        }
      ]
    },
    {
      "cell_type": "code",
      "source": [
        "class Sonata: #소나타 설계도, 차 속성은 가격만 설정\n",
        "  def __init__(self, price, color): #initialization 함수, 특수 메소드\n",
        "    self.price = price #인스턴스 속성\n",
        "    self.color = color\n",
        "\n",
        "  def driving(self):\n",
        "    print(\"주행을 시작합니다.\")\n",
        "\n",
        "pkjSonata = Sonata(2000, \"black\")\n",
        "\n",
        "print(pkjSonata.price)\n",
        "print(pkjSonata.color)\n",
        "\n",
        "pkjSonata.driving() #이거랑 똑같은거 Sonata.driving(pkjSonata)"
      ],
      "metadata": {
        "colab": {
          "base_uri": "https://localhost:8080/"
        },
        "id": "FPdGIxdQqeDx",
        "outputId": "ffe9af67-05ef-45b2-9a9b-91c1c5266efa"
      },
      "execution_count": 78,
      "outputs": [
        {
          "output_type": "stream",
          "name": "stdout",
          "text": [
            "2000\n",
            "black\n",
            "주행을 시작합니다.\n"
          ]
        }
      ]
    },
    {
      "cell_type": "code",
      "source": [
        "class Counter:\n",
        "  def __init__(self):\n",
        "    self.count = 0\n",
        "\n",
        "  def increment(self):\n",
        "    self.count+=1\n",
        "\n",
        "a = Counter()\n",
        "\n",
        "print(a.count)\n",
        "\n",
        "a.increment()\n",
        "\n",
        "print(a.count)"
      ],
      "metadata": {
        "colab": {
          "base_uri": "https://localhost:8080/"
        },
        "id": "xirbK191re_u",
        "outputId": "b94983d3-7648-45c3-a8f6-3913b0b9cc1a"
      },
      "execution_count": 84,
      "outputs": [
        {
          "output_type": "stream",
          "name": "stdout",
          "text": [
            "0\n",
            "1\n"
          ]
        }
      ]
    },
    {
      "cell_type": "code",
      "source": [
        "class Counter:\n",
        "  def __init__(self):\n",
        "    self.count = 0\n",
        "  def increment(self, num):\n",
        "    self.count += num\n",
        "\n",
        "a = Counter()\n",
        "a.increment(4)\n",
        "a.increment(8)\n",
        "print(\"카운터의 값=\", a.count)"
      ],
      "metadata": {
        "colab": {
          "base_uri": "https://localhost:8080/"
        },
        "id": "MZd26QAwvx17",
        "outputId": "e9abd867-e7b7-4f51-f71d-0a226db46a33"
      },
      "execution_count": 88,
      "outputs": [
        {
          "output_type": "stream",
          "name": "stdout",
          "text": [
            "카운터의 값= 12\n",
            "<__main__.Counter object at 0x7f759684cd00>\n"
          ]
        }
      ]
    },
    {
      "cell_type": "code",
      "source": [
        "#원 클래스 정의\n",
        "\n",
        "import math\n",
        "\n",
        "class Circle:\n",
        "  def __init__(self,radius = 0):\n",
        "    self.radius = radius\n",
        "    \n",
        "  def getArea(self):\n",
        "    return math.pi * self.radius * self.radius\n",
        "\n",
        "  def getPerimeter(self):\n",
        "    return 2 * math.pi * self.radius\n",
        "\n",
        "c= Circle(10)\n",
        "print(\"원의 면적:\", c.getArea())\n",
        "print(\"원의 둘레:\", c.getPerimeter())"
      ],
      "metadata": {
        "colab": {
          "base_uri": "https://localhost:8080/"
        },
        "id": "cp01rE65wr65",
        "outputId": "abf5d451-9961-4192-d7dc-0120a959a8d6"
      },
      "execution_count": 89,
      "outputs": [
        {
          "output_type": "stream",
          "name": "stdout",
          "text": [
            "원의 면적: 314.1592653589793\n",
            "원의 둘레: 62.83185307179586\n"
          ]
        }
      ]
    },
    {
      "cell_type": "code",
      "source": [
        "#자동차 클래스 정의\n",
        "#정보은닉: 언더바(_)가 붙은 인스턴스 변수는 class내부에서만 접근\n",
        "\n",
        "class Car:\n",
        "  def __init__(self, speed, color, model):\n",
        "    print(\"자동차 객체를 생성하였습니다.\")\n",
        "    self.__speed = speed\n",
        "    self.color = color\n",
        "    self.model = model\n",
        "\n",
        "myCar = Car(30, \"blue\", \"avante\")\n",
        "print(\"자동차의 속도는\", myCar.__speed)\n",
        "print(\"자동차의 색상은\", myCar.color)\n",
        "print(\"자동차의 모델은\", myCar.model)"
      ],
      "metadata": {
        "colab": {
          "base_uri": "https://localhost:8080/",
          "height": 263
        },
        "id": "O_vQYUFRyJZV",
        "outputId": "26a2472a-a4bc-460b-d1a6-5dc1d983d766"
      },
      "execution_count": 106,
      "outputs": [
        {
          "output_type": "stream",
          "name": "stdout",
          "text": [
            "자동차 객체를 생성하였습니다.\n"
          ]
        },
        {
          "output_type": "error",
          "ename": "AttributeError",
          "evalue": "ignored",
          "traceback": [
            "\u001b[0;31m---------------------------------------------------------------------------\u001b[0m",
            "\u001b[0;31mAttributeError\u001b[0m                            Traceback (most recent call last)",
            "\u001b[0;32m<ipython-input-106-dbf7ef7d5136>\u001b[0m in \u001b[0;36m<cell line: 12>\u001b[0;34m()\u001b[0m\n\u001b[1;32m     10\u001b[0m \u001b[0;34m\u001b[0m\u001b[0m\n\u001b[1;32m     11\u001b[0m \u001b[0mmyCar\u001b[0m \u001b[0;34m=\u001b[0m \u001b[0mCar\u001b[0m\u001b[0;34m(\u001b[0m\u001b[0;36m30\u001b[0m\u001b[0;34m,\u001b[0m \u001b[0;34m\"blue\"\u001b[0m\u001b[0;34m,\u001b[0m \u001b[0;34m\"avante\"\u001b[0m\u001b[0;34m)\u001b[0m\u001b[0;34m\u001b[0m\u001b[0;34m\u001b[0m\u001b[0m\n\u001b[0;32m---> 12\u001b[0;31m \u001b[0mprint\u001b[0m\u001b[0;34m(\u001b[0m\u001b[0;34m\"자동차의 속도는\"\u001b[0m\u001b[0;34m,\u001b[0m \u001b[0mmyCar\u001b[0m\u001b[0;34m.\u001b[0m\u001b[0m__speed\u001b[0m\u001b[0;34m)\u001b[0m\u001b[0;34m\u001b[0m\u001b[0;34m\u001b[0m\u001b[0m\n\u001b[0m\u001b[1;32m     13\u001b[0m \u001b[0mprint\u001b[0m\u001b[0;34m(\u001b[0m\u001b[0;34m\"자동차의 색상은\"\u001b[0m\u001b[0;34m,\u001b[0m \u001b[0mmyCar\u001b[0m\u001b[0;34m.\u001b[0m\u001b[0mcolor\u001b[0m\u001b[0;34m)\u001b[0m\u001b[0;34m\u001b[0m\u001b[0;34m\u001b[0m\u001b[0m\n\u001b[1;32m     14\u001b[0m \u001b[0mprint\u001b[0m\u001b[0;34m(\u001b[0m\u001b[0;34m\"자동차의 모델은\"\u001b[0m\u001b[0;34m,\u001b[0m \u001b[0mmyCar\u001b[0m\u001b[0;34m.\u001b[0m\u001b[0mmodel\u001b[0m\u001b[0;34m)\u001b[0m\u001b[0;34m\u001b[0m\u001b[0;34m\u001b[0m\u001b[0m\n",
            "\u001b[0;31mAttributeError\u001b[0m: 'Car' object has no attribute '__speed'"
          ]
        }
      ]
    },
    {
      "cell_type": "code",
      "source": [
        "#setter, getter\n",
        "class Car:\n",
        "  def __init__(self, speed, color, model):\n",
        "    print(\"자동차 객체를 생성하였습니다.\")\n",
        "    self.__speed = speed\n",
        "    self.color = color\n",
        "    self.model = model\n",
        "\n",
        "  def getSpeed(self):\n",
        "    return self.__speed\n",
        "\n",
        "  def setSpeed(self, speed):\n",
        "    self.__speed = speed\n",
        "\n",
        "myCar = Car(0, \"blue\", \"avante\")\n",
        "print(myCar.getSpeed())\n",
        "\n",
        "myCar.setSpeed(20)\n",
        "print(myCar.getSpeed())"
      ],
      "metadata": {
        "colab": {
          "base_uri": "https://localhost:8080/"
        },
        "id": "PF4U90_4zAkc",
        "outputId": "ebc0f926-53ed-4ffc-f86c-229bcaa9f45c"
      },
      "execution_count": 109,
      "outputs": [
        {
          "output_type": "stream",
          "name": "stdout",
          "text": [
            "자동차 객체를 생성하였습니다.\n",
            "0\n",
            "20\n"
          ]
        }
      ]
    },
    {
      "cell_type": "code",
      "source": [
        "#은행 계좌\n",
        "\n",
        "class BankAccount:\n",
        "  def __init__(self):\n",
        "    self.__balance = 0\n",
        "\n",
        "  def withdraw(self, amount):\n",
        "    self.__balance -= amount\n",
        "    print(\"통장에서\", amount,\"가 출금되었습니다.\")\n",
        "    return self.__balance\n",
        "  \n",
        "  def deposit(self, amount):\n",
        "    self.__balance += amount\n",
        "    print(\"통장에\", amount,\"가 입금되었습니다.\")\n",
        "    return self.__balance\n",
        "\n",
        "a= BankAccount()\n",
        "a.deposit(100)\n",
        "a.withdraw(10)"
      ],
      "metadata": {
        "colab": {
          "base_uri": "https://localhost:8080/"
        },
        "id": "eiV-qcil2W8C",
        "outputId": "d3b02f73-1e84-4f3e-ff93-39ab5420eec9"
      },
      "execution_count": 110,
      "outputs": [
        {
          "output_type": "stream",
          "name": "stdout",
          "text": [
            "통장에 100 가 입금되었습니다.\n",
            "통장에서 10 가 출금되었습니다.\n"
          ]
        },
        {
          "output_type": "execute_result",
          "data": {
            "text/plain": [
              "90"
            ]
          },
          "metadata": {},
          "execution_count": 110
        }
      ]
    },
    {
      "cell_type": "code",
      "source": [
        "class Counter:\n",
        "  value=0\n",
        "\n",
        "  def __init__(self):\n",
        "    Counter.value += 1\n",
        "    self.count = Counter.value\n",
        "    print(self.count)\n",
        "\n",
        "a = Counter()\n",
        "b = Counter()\n",
        "c = Counter()"
      ],
      "metadata": {
        "colab": {
          "base_uri": "https://localhost:8080/"
        },
        "id": "_U6EjERw4xO5",
        "outputId": "0626b97b-6b95-47d6-d3e2-48d0a5e7cf1a"
      },
      "execution_count": 115,
      "outputs": [
        {
          "output_type": "stream",
          "name": "stdout",
          "text": [
            "1\n",
            "2\n",
            "3\n"
          ]
        },
        {
          "output_type": "execute_result",
          "data": {
            "text/plain": [
              "False"
            ]
          },
          "metadata": {},
          "execution_count": 115
        }
      ]
    },
    {
      "cell_type": "code",
      "source": [
        "class Counter:\n",
        "  def __init__(self, value):\n",
        "    self.count = value\n",
        "\n",
        "  def __eq__(self, other):\n",
        "    print(\"eq메소드 실행!\")\n",
        "    return self.count == other.count\n",
        "\n",
        "a= Counter(10)\n",
        "b= Counter(10)\n",
        "\n",
        "print(\"======================\")\n",
        "print(a==b)"
      ],
      "metadata": {
        "id": "-JcTBRFV8rdY"
      },
      "execution_count": 120,
      "outputs": []
    },
    {
      "cell_type": "code",
      "source": [
        "#벡터 개체에 특수 메소드 정의\n",
        "\n",
        "class Vector2D:\n",
        "  def __init__(self, x, y):\n",
        "    self.x = x\n",
        "    self.y = y\n",
        "\n",
        "  def __add__(self, other):\n",
        "    return Vector2D(self.x + other.x, self.y + other.y)\n",
        "\n",
        "  def __sub__(self, other):\n",
        "    return Vector2D(self.x - other.x, self.y - other.y)\n",
        "\n",
        "  def __str__(self):\n",
        "    return f'({self.x},{self.y})'\n",
        "\n",
        "u = Vector2D(0,1)\n",
        "v = Vector2D(1,0)\n",
        "\n",
        "a = u + v\n",
        "print(a)\n"
      ],
      "metadata": {
        "colab": {
          "base_uri": "https://localhost:8080/"
        },
        "id": "c7wx8HSg9zrz",
        "outputId": "eb64c744-f595-4fbb-9dea-16df1b4d0e68"
      },
      "execution_count": 129,
      "outputs": [
        {
          "output_type": "stream",
          "name": "stdout",
          "text": [
            "(1,1)\n"
          ]
        }
      ]
    },
    {
      "cell_type": "code",
      "source": [
        "#상속\n",
        "\n",
        "class Car: #부모\n",
        "  def __init__(self, Car_price, color, km):\n",
        "    self.Car_price = Car_price #3000\n",
        "    self.color = color #red\n",
        "    self.km = km #13km\n",
        "\n",
        "class Avante(Car): #자식\n",
        "  def __init__(self, Car_price, color, km, year):\n",
        "    super().__init__(Car_price, color, km) #super().는 부모를 의미함 ->부모클래스의 __init__\n",
        "    self.year = year\n",
        "\n",
        "myAvante = Avante(3000, \"red\", \"13km\", \"2023\")\n",
        "\n",
        "myAvante.Car_price"
      ],
      "metadata": {
        "colab": {
          "base_uri": "https://localhost:8080/"
        },
        "id": "hceXl9Ba_6Nb",
        "outputId": "ee336b89-a50f-46b7-8357-87c0141740db"
      },
      "execution_count": 134,
      "outputs": [
        {
          "output_type": "execute_result",
          "data": {
            "text/plain": [
              "3000"
            ]
          },
          "metadata": {},
          "execution_count": 134
        }
      ]
    },
    {
      "cell_type": "code",
      "source": [],
      "metadata": {
        "id": "-DgAD3NJDv1d"
      },
      "execution_count": null,
      "outputs": []
    }
  ]
}